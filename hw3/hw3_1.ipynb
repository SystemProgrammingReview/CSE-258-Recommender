{
 "cells": [
  {
   "cell_type": "code",
   "execution_count": 157,
   "metadata": {
    "collapsed": false
   },
   "outputs": [],
   "source": [
    "import gzip\n",
    "import numpy\n",
    "from collections import defaultdict\n",
    "\n",
    "def readGz(f):\n",
    "    for l in gzip.open(f):\n",
    "        yield eval(l)"
   ]
  },
  {
   "cell_type": "code",
   "execution_count": 158,
   "metadata": {
    "collapsed": false
   },
   "outputs": [],
   "source": [
    "Data = []\n",
    "for l in readGz(\"assignment1/train.json.gz\"):\n",
    "    Data.append(l)"
   ]
  },
  {
   "cell_type": "code",
   "execution_count": 159,
   "metadata": {
    "collapsed": true
   },
   "outputs": [],
   "source": [
    "data_train = Data[:100000]\n",
    "data_valid = Data[100000:]"
   ]
  },
  {
   "cell_type": "code",
   "execution_count": 160,
   "metadata": {
    "collapsed": false
   },
   "outputs": [
    {
     "name": "stdout",
     "output_type": "stream",
     "text": [
      "0.783737364232\n"
     ]
    }
   ],
   "source": [
    "# task 1\n",
    "alpha = 0\n",
    "count = 0\n",
    "for d in data_train:\n",
    "    if d['helpful']['outOf'] != 0:\n",
    "        alpha += d['helpful']['nHelpful'] * 1.0 / d['helpful']['outOf']\n",
    "        count += 1\n",
    "\n",
    "alpha /= count\n",
    "print alpha"
   ]
  },
  {
   "cell_type": "code",
   "execution_count": 161,
   "metadata": {
    "collapsed": false
   },
   "outputs": [
    {
     "name": "stdout",
     "output_type": "stream",
     "text": [
      "0.258702157422\n"
     ]
    }
   ],
   "source": [
    "# task 2\n",
    "MAE = 0\n",
    "for d in data_valid:\n",
    "    predict = alpha * d['helpful']['outOf']\n",
    "    MAE += abs(predict - d['helpful']['nHelpful'])\n",
    "\n",
    "MAE /= len(data_valid)\n",
    "print MAE"
   ]
  },
  {
   "cell_type": "code",
   "execution_count": 162,
   "metadata": {
    "collapsed": true
   },
   "outputs": [],
   "source": [
    "# task 3\n",
    "def filter(data):\n",
    "    feature= []\n",
    "    label = []\n",
    "    for d in data:\n",
    "        if d['helpful']['outOf'] != 0:\n",
    "            # feature\n",
    "            feat = [1]\n",
    "            feat.append(len(d['reviewText'].strip().split()))\n",
    "            feat.append(d['rating'])\n",
    "            feature.append(feat)\n",
    "            # label\n",
    "            l = d['helpful']['nHelpful'] * 1.0 / d['helpful']['outOf']\n",
    "            label.append(l)\n",
    "    return feature, label"
   ]
  },
  {
   "cell_type": "code",
   "execution_count": 163,
   "metadata": {
    "collapsed": false
   },
   "outputs": [],
   "source": [
    "feature_train, label_train = filter(data_train)\n",
    "theta,residuals,rank,s = numpy.linalg.lstsq(feature_train, label_train)"
   ]
  },
  {
   "cell_type": "code",
   "execution_count": 164,
   "metadata": {
    "collapsed": false
   },
   "outputs": [
    {
     "name": "stdout",
     "output_type": "stream",
     "text": [
      "[  5.62218966e-01   2.11835412e-04   5.07029148e-02]\n"
     ]
    }
   ],
   "source": [
    "print theta"
   ]
  },
  {
   "cell_type": "code",
   "execution_count": 165,
   "metadata": {
    "collapsed": false
   },
   "outputs": [
    {
     "name": "stdout",
     "output_type": "stream",
     "text": [
      "0.240245808704\n"
     ]
    }
   ],
   "source": [
    "# task 3 MAE\n",
    "def inner(x, y): \n",
    "    result = 0\n",
    "    for a, b in zip(x, y): \n",
    "        result += a * b\n",
    "    return result\n",
    "\n",
    "feature_valid, label_valid = filter(data_valid)\n",
    "helpful_valid = []\n",
    "for d in data_valid:\n",
    "    if d['helpful']['outOf'] != 0:\n",
    "        helpful_valid.append(d['helpful'])\n",
    "        \n",
    "MAE = 0\n",
    "for i in range(len(helpful_valid)):\n",
    "    predict = inner(theta, feature_valid[i]) * helpful_valid[i]['outOf']\n",
    "    MAE += abs(helpful_valid[i]['nHelpful'] - predict) \n",
    "MAE /= len(data_valid)\n",
    "print MAE"
   ]
  },
  {
   "cell_type": "code",
   "execution_count": 166,
   "metadata": {
    "collapsed": false
   },
   "outputs": [],
   "source": [
    "# task 4\n",
    "reviews = {}\n",
    "for l in readGz(\"assignment1/test_Helpful.json.gz\"):\n",
    "    user,item = l['reviewerID'], l['itemID']\n",
    "    key = user + ' ' + item\n",
    "    reviews[key] = {}\n",
    "    reviews[key][\"rating\"] = l[\"rating\"]\n",
    "    reviews[key][\"outOf\"] = l[\"helpful\"][\"outOf\"]\n",
    "    reviews[key][\"length\"] = len(l['reviewText'].strip().split())"
   ]
  },
  {
   "cell_type": "code",
   "execution_count": 167,
   "metadata": {
    "collapsed": false
   },
   "outputs": [],
   "source": [
    "predictions = open(\"assignment1/predictions_Helpful.txt\", 'w')\n",
    "\n",
    "for l in open(\"assignment1/pairs_Helpful.txt\"): \n",
    "    if l.startswith(\"userID\"):\n",
    "        # first line\n",
    "        predictions.write(l)\n",
    "        continue\n",
    "    \n",
    "    u, i, outOf = l.strip().split('-')\n",
    "    outOf = int(outOf)\n",
    "    key = u + ' ' + i\n",
    "    feature = [1, reviews[key][\"length\"], reviews[key][\"rating\"]]\n",
    "    predictions.write(u + '-' + i + '-' + str(outOf) + ',' \\\n",
    "                      + str(outOf*(inner(theta , feature)))+ '\\n')\n",
    "\n",
    "predictions.close ()"
   ]
  },
  {
   "cell_type": "code",
   "execution_count": null,
   "metadata": {
    "collapsed": true
   },
   "outputs": [],
   "source": []
  },
  {
   "cell_type": "code",
   "execution_count": null,
   "metadata": {
    "collapsed": true
   },
   "outputs": [],
   "source": []
  },
  {
   "cell_type": "code",
   "execution_count": null,
   "metadata": {
    "collapsed": true
   },
   "outputs": [],
   "source": []
  },
  {
   "cell_type": "code",
   "execution_count": null,
   "metadata": {
    "collapsed": true
   },
   "outputs": [],
   "source": []
  }
 ],
 "metadata": {
  "kernelspec": {
   "display_name": "Python 2",
   "language": "python",
   "name": "python2"
  },
  "language_info": {
   "codemirror_mode": {
    "name": "ipython",
    "version": 2
   },
   "file_extension": ".py",
   "mimetype": "text/x-python",
   "name": "python",
   "nbconvert_exporter": "python",
   "pygments_lexer": "ipython2",
   "version": "2.7.12"
  }
 },
 "nbformat": 4,
 "nbformat_minor": 2
}
