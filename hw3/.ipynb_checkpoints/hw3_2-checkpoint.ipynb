{
 "cells": [
  {
   "cell_type": "code",
   "execution_count": 49,
   "metadata": {
    "collapsed": false
   },
   "outputs": [],
   "source": [
    "import gzip\n",
    "import numpy\n",
    "from collections import defaultdict\n",
    "\n",
    "def readGz(f):\n",
    "    for l in gzip.open(f):\n",
    "        yield eval(l)"
   ]
  },
  {
   "cell_type": "code",
   "execution_count": 50,
   "metadata": {
    "collapsed": false
   },
   "outputs": [],
   "source": [
    "Data = []\n",
    "for l in readGz(\"assignment1/train.json.gz\"):\n",
    "    Data.append(l)\n",
    "data_train = Data[:100000]\n",
    "data_valid = Data[100000:]"
   ]
  },
  {
   "cell_type": "code",
   "execution_count": 51,
   "metadata": {
    "collapsed": false
   },
   "outputs": [
    {
     "name": "stdout",
     "output_type": "stream",
     "text": [
      "4.23198\n",
      "1.2264713284\n"
     ]
    }
   ],
   "source": [
    "# task 5\n",
    "ratings_train = []\n",
    "ratings_valid = []\n",
    "\n",
    "for d in data_train:\n",
    "    ratings_train.append(d['rating'])\n",
    "for d in data_valid:\n",
    "    ratings_valid.append(d['rating'])\n",
    "\n",
    "alpha = sum(ratings_train) * 1.0 / len(ratings_train)\n",
    "print alpha\n",
    "\n",
    "MSE = 0\n",
    "for i in range(len(data_valid)):\n",
    "    MSE += (ratings_valid[i]-alpha) **2\n",
    "MSE /= len(data_valid)\n",
    "print MSE "
   ]
  },
  {
   "cell_type": "code",
   "execution_count": 52,
   "metadata": {
    "collapsed": true
   },
   "outputs": [],
   "source": [
    "# task 6\n",
    "userRatings_train = defaultdict(lambda: defaultdict(int))\n",
    "itemRatings_train = defaultdict(lambda: defaultdict(int))\n",
    "beta_u = defaultdict(float)\n",
    "beta_i = defaultdict(float)\n",
    "\n",
    "for d in data_train:\n",
    "    user, item = d['reviewerID'], d['itemID']\n",
    "    userRatings_train[user][item] = d['rating']\n",
    "    itemRatings_train[item][user] = d['rating']\n",
    "    beta_u[user] = 0\n",
    "    beta_i[item] = 0"
   ]
  },
  {
   "cell_type": "code",
   "execution_count": 53,
   "metadata": {
    "collapsed": false
   },
   "outputs": [
    {
     "name": "stdout",
     "output_type": "stream",
     "text": [
      "0.510467637051\n"
     ]
    }
   ],
   "source": [
    "lam = 1\n",
    "i = 0\n",
    "iteration = 100\n",
    "while i < iteration:\n",
    "    # update alpha\n",
    "    alpha = 0\n",
    "    for user in userRatings_train:\n",
    "        for item in userRatings_train[user]:\n",
    "            alpha += userRatings_train[user][item] \\\n",
    "                    - (beta_u[user] + beta_i[item])\n",
    "    alpha /= len(data_train)\n",
    "    # update beta_u\n",
    "    for user in userRatings_train:\n",
    "        beta_u[user] = 0\n",
    "        for item in userRatings_train[user]:\n",
    "            beta_u[user] += userRatings_train[user][item] \\\n",
    "                    - (alpha + beta_i[item])\n",
    "        beta_u[user] /= (lam + len(userRatings_train[user])) \n",
    "    # update beta_i\n",
    "    for item in itemRatings_train:\n",
    "        beta_i[item] = 0\n",
    "        for user in itemRatings_train[item]:\n",
    "            beta_i[item] += itemRatings_train[item][user] \\\n",
    "                    - (alpha + beta_u[user])\n",
    "        beta_i[item] /= (lam + len(itemRatings_train[item]))\n",
    "    # MSE\n",
    "    MSE = 0\n",
    "    for user in userRatings_train:\n",
    "        for item in userRatings_train[user]:\n",
    "            MSE += (alpha + beta_u[user] + beta_i[item] \n",
    "                    - userRatings_train[user][item]) **2\n",
    "    MSE /= len(data_train)\n",
    "    if(i == 99):\n",
    "        print MSE\n",
    "    i += 1"
   ]
  },
  {
   "cell_type": "code",
   "execution_count": 54,
   "metadata": {
    "collapsed": false
   },
   "outputs": [
    {
     "name": "stdout",
     "output_type": "stream",
     "text": [
      "4.22632677668\n"
     ]
    }
   ],
   "source": [
    "print alpha"
   ]
  },
  {
   "cell_type": "code",
   "execution_count": 55,
   "metadata": {
    "collapsed": false
   },
   "outputs": [
    {
     "name": "stdout",
     "output_type": "stream",
     "text": [
      "1.28154916046\n"
     ]
    }
   ],
   "source": [
    "userRatings_valid = defaultdict(lambda: defaultdict(int))\n",
    "itemRatings_valid = defaultdict(lambda: defaultdict(int))\n",
    "\n",
    "for d in data_valid:\n",
    "    user, item = d['reviewerID'], d['itemID']\n",
    "    userRatings_valid[user][item] = d['rating']\n",
    "    itemRatings_valid[item][user] = d['rating']\n",
    "\n",
    "MSE = 0\n",
    "for user in userRatings_valid:\n",
    "    for item in userRatings_valid[user]:\n",
    "        MSE += ((alpha \\\n",
    "                 + (beta_u[user] if user in beta_u else 0) \\\n",
    "                 + (beta_i[item] if item in beta_i else 0) \\\n",
    "                 - userRatings_valid[user][item]) **2)\n",
    "MSE /= len(data_train)\n",
    "print MSE"
   ]
  },
  {
   "cell_type": "code",
   "execution_count": 70,
   "metadata": {
    "collapsed": false
   },
   "outputs": [
    {
     "name": "stdout",
     "output_type": "stream",
     "text": [
      "user with largest beta:  U816486110\n",
      "user with smallest beta:  U052814411\n",
      "user with largest beta:  I558325415\n",
      "user with smallest beta:  I071368828\n"
     ]
    }
   ],
   "source": [
    "# task 7\n",
    "import sys\n",
    "\n",
    "max_value = -sys.maxint\n",
    "min_value = sys.maxint\n",
    "for key, value in beta_u.iteritems():\n",
    "    if value > max_value:\n",
    "        max_value = value\n",
    "        max_user = key\n",
    "       \n",
    "    if value < min_value:\n",
    "        min_value = value\n",
    "        min_user = key\n",
    "print \"user with largest beta: \", max_user\n",
    "print \"user with smallest beta: \", min_user\n",
    "\n",
    "max_value = -sys.maxint\n",
    "min_value = sys.maxint\n",
    "for key, value in beta_i.iteritems():\n",
    "    if value > max_value:\n",
    "        max_value = value\n",
    "        max_item = key\n",
    "       \n",
    "    if value < min_value:\n",
    "        min_value = value\n",
    "        min_item = key\n",
    "print \"user with largest beta: \", max_item\n",
    "print \"user with smallest beta: \", min_item"
   ]
  },
  {
   "cell_type": "code",
   "execution_count": 71,
   "metadata": {
    "collapsed": false
   },
   "outputs": [
    {
     "name": "stdout",
     "output_type": "stream",
     "text": [
      "0.795455517619\n"
     ]
    }
   ],
   "source": [
    "# task 8\n",
    "lam = 6.5\n",
    "i = 0\n",
    "iteration = 100\n",
    "while i < iteration:\n",
    "    # update alpha\n",
    "    alpha = 0\n",
    "    for user in userRatings_train:\n",
    "        for item in userRatings_train[user]:\n",
    "            alpha += userRatings_train[user][item] \\\n",
    "                     - (beta_u[user] + beta_i[item])\n",
    "    alpha /= len(data_train)\n",
    "    # update beta_u\n",
    "    for user in userRatings_train:\n",
    "        beta_u[user] = 0\n",
    "        for item in userRatings_train[user]:\n",
    "            beta_u[user] += userRatings_train[user][item] \\\n",
    "                            - (alpha + beta_i[item])\n",
    "        beta_u[user] /= (lam + len(userRatings_train[user]))   \n",
    "    # update beta_i\n",
    "    for item in itemRatings_train:\n",
    "        beta_i[item] = 0\n",
    "        for user in itemRatings_train[item]:\n",
    "            beta_i[item] += itemRatings_train[item][user] \\\n",
    "                          - (alpha + beta_u[user])\n",
    "        beta_i[item] /= (lam + len(itemRatings_train[item]))\n",
    "    # MSE\n",
    "    MSE = 0\n",
    "    for user in userRatings_train:\n",
    "        for item in userRatings_train[user]:\n",
    "            MSE += (alpha + beta_u[user] + beta_i[item] \\\n",
    "                    - userRatings_train[user][item]) **2\n",
    "    MSE /= len(data_train)\n",
    "    if(i == 99):\n",
    "        print MSE  \n",
    "    i += 1"
   ]
  },
  {
   "cell_type": "code",
   "execution_count": 72,
   "metadata": {
    "collapsed": false
   },
   "outputs": [
    {
     "name": "stdout",
     "output_type": "stream",
     "text": [
      "1.13945170902\n"
     ]
    }
   ],
   "source": [
    "userRatings_valid = defaultdict(lambda: defaultdict(int))\n",
    "itemRatings_valid = defaultdict(lambda: defaultdict(int))\n",
    "\n",
    "for d in data_valid:\n",
    "    user, item = d['reviewerID'], d['itemID']\n",
    "    userRatings_valid[user][item] = d['rating']\n",
    "    itemRatings_valid[item][user] = d['rating']\n",
    "\n",
    "MSE = 0\n",
    "for user in userRatings_valid:\n",
    "    for item in userRatings_valid[user]:\n",
    "        MSE += ((alpha \\\n",
    "                 + (beta_u[user] if user in beta_u else 0) \\\n",
    "                 + (beta_i[item] if item in beta_i else 0) \\\n",
    "                 - userRatings_valid[user][item]) **2)\n",
    "MSE /= len(data_train)\n",
    "print MSE"
   ]
  },
  {
   "cell_type": "code",
   "execution_count": 76,
   "metadata": {
    "collapsed": false
   },
   "outputs": [],
   "source": [
    "predictions = open(\"assignment1/predictions_Rating.txt\", 'w')\n",
    "for l in open(\"assignment1/pairs_Rating.txt\"):\n",
    "    if l.startswith(\"userID\"):\n",
    "        #header\n",
    "        predictions.write(l)\n",
    "        continue\n",
    "    u,i = l.strip().split('-')\n",
    "    \n",
    "    x = alpha\n",
    "    if u in beta_u:\n",
    "        x += beta_u[u]\n",
    "    if i in beta_i:\n",
    "        x += beta_i[i] \n",
    "    predictions.write(u + '-' + i + ',' + str(x) + '\\n')\n",
    "\n",
    "predictions.close()"
   ]
  },
  {
   "cell_type": "code",
   "execution_count": null,
   "metadata": {
    "collapsed": true
   },
   "outputs": [],
   "source": []
  },
  {
   "cell_type": "code",
   "execution_count": null,
   "metadata": {
    "collapsed": true
   },
   "outputs": [],
   "source": []
  },
  {
   "cell_type": "code",
   "execution_count": null,
   "metadata": {
    "collapsed": true
   },
   "outputs": [],
   "source": []
  }
 ],
 "metadata": {
  "kernelspec": {
   "display_name": "Python 2",
   "language": "python",
   "name": "python2"
  },
  "language_info": {
   "codemirror_mode": {
    "name": "ipython",
    "version": 2
   },
   "file_extension": ".py",
   "mimetype": "text/x-python",
   "name": "python",
   "nbconvert_exporter": "python",
   "pygments_lexer": "ipython2",
   "version": "2.7.12"
  }
 },
 "nbformat": 4,
 "nbformat_minor": 2
}
