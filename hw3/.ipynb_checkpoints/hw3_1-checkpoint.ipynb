{
 "cells": [
  {
   "cell_type": "code",
   "execution_count": 70,
   "metadata": {
    "collapsed": false
   },
   "outputs": [],
   "source": [
    "import gzip\n",
    "import numpy\n",
    "from collections import defaultdict\n",
    "\n",
    "def readGz(f):\n",
    "    for l in gzip.open(f):\n",
    "        yield eval(l)"
   ]
  },
  {
   "cell_type": "code",
   "execution_count": 27,
   "metadata": {
    "collapsed": false
   },
   "outputs": [],
   "source": [
    "Data = []\n",
    "for l in readGz(\"assignment1/train.json.gz\"):\n",
    "    Data.append(l)"
   ]
  },
  {
   "cell_type": "code",
   "execution_count": 39,
   "metadata": {
    "collapsed": true
   },
   "outputs": [],
   "source": [
    "data_train = Data[:100000]\n",
    "data_valid = Data[100000:]"
   ]
  },
  {
   "cell_type": "code",
   "execution_count": 49,
   "metadata": {
    "collapsed": false
   },
   "outputs": [
    {
     "name": "stdout",
     "output_type": "stream",
     "text": [
      "0.783737364232\n"
     ]
    }
   ],
   "source": [
    "# task 1\n",
    "alpha = 0\n",
    "count = 0\n",
    "for d in data_train:\n",
    "    if d['helpful']['outOf'] != 0:\n",
    "        alpha += d['helpful']['nHelpful'] * 1.0 / d['helpful']['outOf']\n",
    "        count += 1\n",
    "\n",
    "alpha /= count\n",
    "print alpha"
   ]
  },
  {
   "cell_type": "code",
   "execution_count": 54,
   "metadata": {
    "collapsed": false
   },
   "outputs": [
    {
     "name": "stdout",
     "output_type": "stream",
     "text": [
      "0.258702157422\n"
     ]
    }
   ],
   "source": [
    "# task 2\n",
    "MAE = 0\n",
    "for d in data_valid:\n",
    "    predict = alpha * d['helpful']['outOf']\n",
    "    MAE += abs(predict - d['helpful']['nHelpful'])\n",
    "\n",
    "MAE /= len(data_valid)\n",
    "print MAE"
   ]
  },
  {
   "cell_type": "code",
   "execution_count": 118,
   "metadata": {
    "collapsed": true
   },
   "outputs": [],
   "source": [
    "# task 3\n",
    "def filter(data):\n",
    "    feature= []\n",
    "    label = []\n",
    "    for d in data:\n",
    "        if d['helpful']['outOf'] != 0:\n",
    "            # feature\n",
    "            feat = [1]\n",
    "            feat.append(len(d['reviewText'].strip().split()))\n",
    "            feat.append(d['rating'])\n",
    "            feature.append(feat)\n",
    "            # label\n",
    "            l = d['helpful']['nHelpful'] * 1.0 / d['helpful']['outOf']\n",
    "            label.append(l)\n",
    "    return feature, label"
   ]
  },
  {
   "cell_type": "code",
   "execution_count": 119,
   "metadata": {
    "collapsed": false
   },
   "outputs": [],
   "source": [
    "feature_train, label_train = filter(data_train)\n",
    "theta,residuals,rank,s = numpy.linalg.lstsq(feature_train, label_train)"
   ]
  },
  {
   "cell_type": "code",
   "execution_count": 151,
   "metadata": {
    "collapsed": false
   },
   "outputs": [
    {
     "name": "stdout",
     "output_type": "stream",
     "text": [
      "[  5.62218966e-01   2.11835412e-04   5.07029148e-02]\n"
     ]
    }
   ],
   "source": [
    "print theta"
   ]
  },
  {
   "cell_type": "code",
   "execution_count": 152,
   "metadata": {
    "collapsed": false
   },
   "outputs": [
    {
     "name": "stdout",
     "output_type": "stream",
     "text": [
      "0.240245808704\n"
     ]
    }
   ],
   "source": [
    "# task 3 MAE\n",
    "def inner(x, y): \n",
    "    result = 0\n",
    "    for a, b in zip(x, y): \n",
    "        result += a * b\n",
    "    return result\n",
    "\n",
    "feature_valid, label_valid = filter(data_valid)\n",
    "helpful_valid = []\n",
    "for d in data_valid:\n",
    "    if d['helpful']['outOf'] != 0:\n",
    "        helpful_valid.append(d['helpful'])\n",
    "        \n",
    "MAE = 0\n",
    "for i in range(len(helpful_valid)):\n",
    "    predict = inner(theta, feature_valid[i]) * helpful_valid[i]['outOf']\n",
    "    MAE += abs(helpful_valid[i]['nHelpful'] - predict) \n",
    "MAE /= len(data_valid)\n",
    "print MAE"
   ]
  },
  {
   "cell_type": "code",
   "execution_count": 153,
   "metadata": {
    "collapsed": false
   },
   "outputs": [],
   "source": [
    "# task 4\n",
    "reviews = {}\n",
    "for l in readGz(\"assignment1/test_Helpful.json.gz\"):\n",
    "    user,item = l['reviewerID'], l['itemID']\n",
    "    key = user + ' ' + item\n",
    "    reviews[key] = {}\n",
    "    reviews[key][\"rating\"] = l[\"rating\"]\n",
    "    reviews[key][\"outOf\"] = l[\"helpful\"][\"outOf\"]\n",
    "    reviews[key][\"length\"] = len(l['reviewText'].strip().split())"
   ]
  },
  {
   "cell_type": "code",
   "execution_count": 154,
   "metadata": {
    "collapsed": false
   },
   "outputs": [],
   "source": [
    "predictions = open(\"assignment1/predictions_Helpful.txt\", 'w')\n",
    "\n",
    "for l in open(\"assignment1/pairs_Helpful.txt\"): \n",
    "    if l.startswith(\"userID\"):\n",
    "        # first line\n",
    "        predictions.write(l)\n",
    "        continue\n",
    "    \n",
    "    u, i, outOf = l.strip().split('-')\n",
    "    outOf = int(outOf)\n",
    "    key = u + ' ' + i\n",
    "    feature = [1, reviews[key][\"length\"], reviews[key][\"rating\"]]\n",
    "    predictions.write(u + '-' + i + '-' + str(outOf) + ',' + str(outOf*(inner(theta , feature)))+ '\\n')\n",
    "\n",
    "predictions.close ()"
   ]
  },
  {
   "cell_type": "code",
   "execution_count": null,
   "metadata": {
    "collapsed": true
   },
   "outputs": [],
   "source": [
    "# task 4 baseline\n",
    "import gzip\n",
    "from collections import defaultdict\n",
    "\n",
    "def readGz(f):\n",
    "    for l in gzip.open(f):\n",
    "        yield eval(l)\n",
    "\n",
    "### Helpfulness baseline: similar to the above. Compute the global average helpfulness rate, and the average helpfulness rate for each user\n",
    "\n",
    "allHelpful = []\n",
    "userHelpful = defaultdict(list)\n",
    "\n",
    "for l in readGz(\"train.json.gz\"):\n",
    "  user,item = l['reviewerID'],l['itemID']\n",
    "  allHelpful.append(l['helpful'])\n",
    "  userHelpful[user].append(l['helpful'])\n",
    "\n",
    "averageRate = sum([x['nHelpful'] for x in allHelpful]) * 1.0 / sum([x['outOf'] for x in allHelpful])\n",
    "userRate = {}\n",
    "for u in userHelpful:\n",
    "  totalU = sum([x['outOf'] for x in userHelpful[u]])\n",
    "  if totalU > 0:\n",
    "    userRate[u] = sum([x['nHelpful'] for x in userHelpful[u]]) * 1.0 / totalU\n",
    "  else:\n",
    "    userRate[u] = averageRate\n",
    "\n",
    "predictions = open(\"predictions_Helpful.txt\", 'w')\n",
    "for l in open(\"pairs_Helpful.txt\"):\n",
    "  if l.startswith(\"userID\"):\n",
    "    #header\n",
    "    predictions.write(l)\n",
    "    continue\n",
    "  u,i,outOf = l.strip().split('-')\n",
    "  outOf = int(outOf)\n",
    "  if u in userRate:\n",
    "    predictions.write(u + '-' + i + '-' + str(outOf) + ',' + str(outOf*userRate[u]) + '\\n')\n",
    "  else:\n",
    "    predictions.write(u + '-' + i + '-' + str(outOf) + ',' + str(outOf*averageRate) + '\\n')\n",
    "\n",
    "predictions.close()\n",
    "\n"
   ]
  },
  {
   "cell_type": "code",
   "execution_count": null,
   "metadata": {
    "collapsed": true
   },
   "outputs": [],
   "source": []
  },
  {
   "cell_type": "code",
   "execution_count": null,
   "metadata": {
    "collapsed": true
   },
   "outputs": [],
   "source": []
  },
  {
   "cell_type": "code",
   "execution_count": null,
   "metadata": {
    "collapsed": true
   },
   "outputs": [],
   "source": []
  },
  {
   "cell_type": "code",
   "execution_count": 134,
   "metadata": {
    "collapsed": false
   },
   "outputs": [
    {
     "data": {
      "text/plain": [
       "{'categories': [['Clothing, Shoes & Jewelry', 'Women'],\n",
       "  ['Clothing, Shoes & Jewelry',\n",
       "   'Novelty, Costumes & More',\n",
       "   'Novelty',\n",
       "   'Clothing',\n",
       "   'Women',\n",
       "   'Leggings']],\n",
       " 'categoryID': 0,\n",
       " 'helpful': {'nHelpful': 0, 'outOf': 0},\n",
       " 'itemID': 'I655355328',\n",
       " 'rating': 3.0,\n",
       " 'reviewHash': 'R115160670',\n",
       " 'reviewText': 'These are cute, but they are a little small.  When I put them on, my legs stretch the fabric making the black fade out.',\n",
       " 'reviewTime': '05 20, 2014',\n",
       " 'reviewerID': 'U745881038',\n",
       " 'summary': 'Cute',\n",
       " 'unixReviewTime': 1400544000}"
      ]
     },
     "execution_count": 134,
     "metadata": {},
     "output_type": "execute_result"
    }
   ],
   "source": [
    "Data[0]"
   ]
  },
  {
   "cell_type": "code",
   "execution_count": null,
   "metadata": {
    "collapsed": true
   },
   "outputs": [],
   "source": []
  }
 ],
 "metadata": {
  "kernelspec": {
   "display_name": "Python 2",
   "language": "python",
   "name": "python2"
  },
  "language_info": {
   "codemirror_mode": {
    "name": "ipython",
    "version": 2
   },
   "file_extension": ".py",
   "mimetype": "text/x-python",
   "name": "python",
   "nbconvert_exporter": "python",
   "pygments_lexer": "ipython2",
   "version": "2.7.12"
  }
 },
 "nbformat": 4,
 "nbformat_minor": 2
}
