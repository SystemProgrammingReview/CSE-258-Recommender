{
 "cells": [
  {
   "cell_type": "code",
   "execution_count": 51,
   "metadata": {
    "collapsed": false,
    "scrolled": true
   },
   "outputs": [
    {
     "name": "stdout",
     "output_type": "stream",
     "text": [
      "Reading data...\n",
      "done\n"
     ]
    }
   ],
   "source": [
    "import numpy\n",
    "import urllib\n",
    "import scipy.optimize\n",
    "import random\n",
    "import csv\n",
    "\n",
    "print \"Reading data...\"\n",
    "with open('winequality-white.csv', 'rb') as csvfile:\n",
    "    reader = csv.reader(csvfile, delimiter=';')\n",
    "    data = []\n",
    "    for row in reader:\n",
    "        data.append(row)\n",
    "title = data[0]\n",
    "half = (len(data)-1)/2\n",
    "trainData = data[1:half+1]\n",
    "testData = data[half+1:]\n",
    "print \"done\""
   ]
  },
  {
   "cell_type": "code",
   "execution_count": 52,
   "metadata": {
    "collapsed": false,
    "scrolled": true
   },
   "outputs": [],
   "source": [
    "def feature(datum):\n",
    "  feat = [1] + [float(datum[i]) for i in range(11)]\n",
    "  return feat"
   ]
  },
  {
   "cell_type": "code",
   "execution_count": 53,
   "metadata": {
    "collapsed": false
   },
   "outputs": [
    {
     "name": "stdout",
     "output_type": "stream",
     "text": [
      "training\n",
      "done\n"
     ]
    }
   ],
   "source": [
    "print \"training\"\n",
    "X_train = [feature(d) for d in trainData]\n",
    "y_train = [float(d[11]) for d in trainData]\n",
    "theta,residuals,rank,s = numpy.linalg.lstsq(X_train, y_train)\n",
    "print \"done\""
   ]
  },
  {
   "cell_type": "code",
   "execution_count": 54,
   "metadata": {
    "collapsed": false
   },
   "outputs": [
    {
     "data": {
      "text/plain": [
       "array([  2.56420279e+02,   1.35421303e-01,  -1.72994866e+00,\n",
       "         1.02651152e-01,   1.09038568e-01,  -2.76775146e-01,\n",
       "         6.34332168e-03,   3.85023977e-05,  -2.58652809e+02,\n",
       "         1.19540566e+00,   8.33006285e-01,   9.79304353e-02])"
      ]
     },
     "execution_count": 54,
     "metadata": {},
     "output_type": "execute_result"
    }
   ],
   "source": [
    "theta"
   ]
  },
  {
   "cell_type": "code",
   "execution_count": 61,
   "metadata": {
    "collapsed": true
   },
   "outputs": [],
   "source": [
    "def MSE(X, y, theta):\n",
    "    theta = numpy.matrix(theta)\n",
    "    X = numpy.matrix(X)\n",
    "    y = numpy.matrix(y)\n",
    "    e = y.T - X*theta.T\n",
    "    mse = e.T * e\n",
    "    mse = numpy.array(mse.flatten().tolist()[0])\n",
    "    mse = mse / len(X)\n",
    "    return mse[0]"
   ]
  },
  {
   "cell_type": "code",
   "execution_count": 62,
   "metadata": {
    "collapsed": false
   },
   "outputs": [
    {
     "name": "stdout",
     "output_type": "stream",
     "text": [
      "MSE on training\n"
     ]
    },
    {
     "data": {
      "text/plain": [
       "0.6023075029028514"
      ]
     },
     "execution_count": 62,
     "metadata": {},
     "output_type": "execute_result"
    }
   ],
   "source": [
    "print \"MSE on training\"\n",
    "MSE(X_train, y_train, theta)"
   ]
  },
  {
   "cell_type": "code",
   "execution_count": 63,
   "metadata": {
    "collapsed": false
   },
   "outputs": [
    {
     "name": "stdout",
     "output_type": "stream",
     "text": [
      "MSE on testing\n"
     ]
    },
    {
     "data": {
      "text/plain": [
       "0.56245713031502975"
      ]
     },
     "execution_count": 63,
     "metadata": {},
     "output_type": "execute_result"
    }
   ],
   "source": [
    "print \"MSE on testing\"\n",
    "X_test = [feature(d) for d in testData]\n",
    "y_test = [float(d[11]) for d in testData]\n",
    "MSE(X_test, y_test, theta)"
   ]
  },
  {
   "cell_type": "code",
   "execution_count": 64,
   "metadata": {
    "collapsed": true
   },
   "outputs": [],
   "source": [
    "def ablation(datum, remove):\n",
    "    feat = [1] + [float(datum[i]) for i in range(remove) + range(remove+1,11)]\n",
    "    return feat"
   ]
  },
  {
   "cell_type": "code",
   "execution_count": 84,
   "metadata": {
    "collapsed": false
   },
   "outputs": [],
   "source": [
    "def ablationMSE(i):\n",
    "    X_train_a = [ablation(d,i) for d in trainData]\n",
    "    y_train_a = [float(d[11]) for d in trainData]\n",
    "    theta_a,residuals,rank,s = numpy.linalg.lstsq(X_train_a, y_train_a)\n",
    "\n",
    "    X_test_a = [ablation(d,i) for d in testData]\n",
    "    y_test_a = [float(d[11]) for d in testData]\n",
    "    print \"MSE: \" + str(MSE(X_test_a,y_test_a,theta_a)) + \" ablation on \" + title[i] \n",
    "    return MSE(X_test_a,y_test_a,theta_a)"
   ]
  },
  {
   "cell_type": "code",
   "execution_count": 85,
   "metadata": {
    "collapsed": false
   },
   "outputs": [
    {
     "name": "stdout",
     "output_type": "stream",
     "text": [
      "MSE: 0.559113414376 ablation on fixed acidity\n",
      "MSE: 0.596384850161 ablation on volatile acidity\n",
      "MSE: 0.562221702811 ablation on citric acid\n",
      "MSE: 0.553625063967 ablation on residual sugar\n",
      "MSE: 0.562629266481 ablation on chlorides\n",
      "MSE: 0.55614081793 ablation on free sulfur dioxide\n",
      "MSE: 0.562429005469 ablation on total sulfur dioxide\n",
      "MSE: 0.544726553466 ablation on density\n",
      "MSE: 0.559566626382 ablation on pH\n",
      "MSE: 0.557346349988 ablation on sulphates\n",
      "MSE: 0.573214743558 ablation on alcohol\n"
     ]
    }
   ],
   "source": [
    "abl = []\n",
    "for i in range(11):\n",
    "    abl.append(ablationMSE(i))"
   ]
  },
  {
   "cell_type": "code",
   "execution_count": 92,
   "metadata": {
    "collapsed": false
   },
   "outputs": [],
   "source": [
    "e = [abs( abl[i] - 0.56245713031502975) for i in range(11)]"
   ]
  },
  {
   "cell_type": "code",
   "execution_count": 93,
   "metadata": {
    "collapsed": false
   },
   "outputs": [
    {
     "data": {
      "text/plain": [
       "[0.0033437159389413385,\n",
       " 0.033927719846361781,\n",
       " 0.00023542750356697617,\n",
       " 0.0088320663475764949,\n",
       " 0.00017213616616973404,\n",
       " 0.0063163123851464054,\n",
       " 2.8124845951604804e-05,\n",
       " 0.017730576848879243,\n",
       " 0.0028905039330903159,\n",
       " 0.0051107803272170127,\n",
       " 0.010757613243087882]"
      ]
     },
     "execution_count": 93,
     "metadata": {},
     "output_type": "execute_result"
    }
   ],
   "source": [
    "e"
   ]
  },
  {
   "cell_type": "code",
   "execution_count": 95,
   "metadata": {
    "collapsed": false
   },
   "outputs": [
    {
     "data": {
      "text/plain": [
       "0.033927719846361781"
      ]
     },
     "execution_count": 95,
     "metadata": {},
     "output_type": "execute_result"
    }
   ],
   "source": [
    "max(e)"
   ]
  },
  {
   "cell_type": "code",
   "execution_count": null,
   "metadata": {
    "collapsed": true
   },
   "outputs": [],
   "source": []
  }
 ],
 "metadata": {
  "anaconda-cloud": {},
  "kernelspec": {
   "display_name": "Python 2",
   "language": "python",
   "name": "python2"
  },
  "language_info": {
   "codemirror_mode": {
    "name": "ipython",
    "version": 2
   },
   "file_extension": ".py",
   "mimetype": "text/x-python",
   "name": "python",
   "nbconvert_exporter": "python",
   "pygments_lexer": "ipython2",
   "version": "2.7.12"
  }
 },
 "nbformat": 4,
 "nbformat_minor": 1
}
