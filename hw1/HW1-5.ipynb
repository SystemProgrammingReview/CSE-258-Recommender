{
 "cells": [
  {
   "cell_type": "code",
   "execution_count": 239,
   "metadata": {
    "collapsed": false,
    "scrolled": true
   },
   "outputs": [
    {
     "name": "stdout",
     "output_type": "stream",
     "text": [
      "Reading data...\n",
      "done\n"
     ]
    }
   ],
   "source": [
    "import numpy\n",
    "import urllib\n",
    "import scipy.optimize\n",
    "import random\n",
    "import csv\n",
    "from sklearn import svm\n",
    "\n",
    "print \"Reading data...\"\n",
    "with open('winequality-white.csv', 'rb') as csvfile:\n",
    "    reader = csv.reader(csvfile, delimiter=';')\n",
    "    data = []\n",
    "    for row in reader:\n",
    "        data.append(row)\n",
    "title = data[0]\n",
    "half = (len(data)-1)/2\n",
    "trainData = data[1:half+1]\n",
    "testData = data[half+1:]\n",
    "print \"done\""
   ]
  },
  {
   "cell_type": "code",
   "execution_count": 240,
   "metadata": {
    "collapsed": false,
    "scrolled": true
   },
   "outputs": [],
   "source": [
    "def featureX(datum):\n",
    "    feat = [1] + [float(datum[i]) for i in range(11)]\n",
    "    return feat\n",
    "\n",
    "def featureY(datum):\n",
    "    if float(datum[11]) <= 5:\n",
    "        return 0\n",
    "    else:\n",
    "        return 1\n",
    "    \n",
    "X_train = [featureX(d) for d in trainData]\n",
    "y_train = [featureY(d) for d in trainData]\n",
    "\n",
    "X_test = [featureX(d) for d in testData]\n",
    "y_test = [featureY(d) for d in testData]"
   ]
  },
  {
   "cell_type": "code",
   "execution_count": 241,
   "metadata": {
    "collapsed": true
   },
   "outputs": [],
   "source": [
    "def accuracy(predict, truth):\n",
    "    truth = numpy.array(truth)\n",
    "    e = sum(abs(predict-truth))\n",
    "    return  1-float(e) / len(predict)"
   ]
  },
  {
   "cell_type": "code",
   "execution_count": 242,
   "metadata": {
    "collapsed": false
   },
   "outputs": [],
   "source": [
    "clf = svm.SVC(C=0.8)\n",
    "clf.fit(X_train, y_train)\n",
    "\n",
    "train_predictions = clf.predict(X_train)\n",
    "test_predictions = clf.predict(X_test)"
   ]
  },
  {
   "cell_type": "code",
   "execution_count": 243,
   "metadata": {
    "collapsed": false
   },
   "outputs": [
    {
     "name": "stdout",
     "output_type": "stream",
     "text": [
      "on training:  0.899142507146\n"
     ]
    }
   ],
   "source": [
    "print \"on training: \", accuracy(train_predictions, y_train)"
   ]
  },
  {
   "cell_type": "code",
   "execution_count": 244,
   "metadata": {
    "collapsed": false
   },
   "outputs": [
    {
     "name": "stdout",
     "output_type": "stream",
     "text": [
      "on testing:  0.698652511229\n"
     ]
    }
   ],
   "source": [
    "print \"on testing: \", accuracy(test_predictions, y_test)"
   ]
  },
  {
   "cell_type": "code",
   "execution_count": null,
   "metadata": {
    "collapsed": true
   },
   "outputs": [],
   "source": []
  }
 ],
 "metadata": {
  "anaconda-cloud": {},
  "kernelspec": {
   "display_name": "Python 2",
   "language": "python",
   "name": "python2"
  },
  "language_info": {
   "codemirror_mode": {
    "name": "ipython",
    "version": 2
   },
   "file_extension": ".py",
   "mimetype": "text/x-python",
   "name": "python",
   "nbconvert_exporter": "python",
   "pygments_lexer": "ipython2",
   "version": "2.7.12"
  }
 },
 "nbformat": 4,
 "nbformat_minor": 1
}
