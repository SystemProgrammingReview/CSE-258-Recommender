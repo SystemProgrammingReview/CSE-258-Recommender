{
 "cells": [
  {
   "cell_type": "code",
   "execution_count": 1,
   "metadata": {
    "collapsed": false,
    "scrolled": true
   },
   "outputs": [
    {
     "name": "stdout",
     "output_type": "stream",
     "text": [
      "Reading data...\n",
      "done\n"
     ]
    }
   ],
   "source": [
    "import numpy\n",
    "import urllib\n",
    "import scipy.optimize\n",
    "import random\n",
    "\n",
    "def parseData(fname):\n",
    "  for l in urllib.urlopen(fname):\n",
    "    yield eval(l)\n",
    "\n",
    "print \"Reading data...\"\n",
    "data = list(parseData(\"http://jmcauley.ucsd.edu/cse190/data/beer/beer_50000.json\"))\n",
    "print \"done\""
   ]
  },
  {
   "cell_type": "code",
   "execution_count": 2,
   "metadata": {
    "collapsed": false
   },
   "outputs": [],
   "source": [
    "year = {1999:[1,0,0,0,0,0,0,0,0,0,0,0,0,0],\n",
    "        2000:[0,1,0,0,0,0,0,0,0,0,0,0,0,0],\n",
    "        2001:[0,0,1,0,0,0,0,0,0,0,0,0,0,0],\n",
    "        2002:[0,0,0,1,0,0,0,0,0,0,0,0,0,0],\n",
    "        2003:[0,0,0,0,1,0,0,0,0,0,0,0,0,0],\n",
    "        2004:[0,0,0,0,0,1,0,0,0,0,0,0,0,0],\n",
    "        2005:[0,0,0,0,0,0,1,0,0,0,0,0,0,0],\n",
    "        2006:[0,0,0,0,0,0,0,1,0,0,0,0,0,0],\n",
    "        2007:[0,0,0,0,0,0,0,0,1,0,0,0,0,0],\n",
    "        2008:[0,0,0,0,0,0,0,0,0,1,0,0,0,0],\n",
    "        2009:[0,0,0,0,0,0,0,0,0,0,1,0,0,0],\n",
    "        2010:[0,0,0,0,0,0,0,0,0,0,0,1,0,0],\n",
    "        2011:[0,0,0,0,0,0,0,0,0,0,0,0,1,0],\n",
    "        2012:[0,0,0,0,0,0,0,0,0,0,0,0,0,1]} "
   ]
  },
  {
   "cell_type": "code",
   "execution_count": 3,
   "metadata": {
    "collapsed": false
   },
   "outputs": [],
   "source": [
    "def MSE(X, y, theta):\n",
    "    theta = numpy.matrix(theta)\n",
    "    X = numpy.matrix(X)\n",
    "    y = numpy.matrix(y)\n",
    "    e = y.T - X*theta.T\n",
    "    mse = e.T * e\n",
    "    mse = numpy.array(mse.flatten().tolist()[0])\n",
    "    mse = mse / len(X)\n",
    "    return mse[0]"
   ]
  },
  {
   "cell_type": "code",
   "execution_count": 4,
   "metadata": {
    "collapsed": false
   },
   "outputs": [],
   "source": [
    "def feature(datum):\n",
    "  feat = [1] + year.get(datum['review/timeStruct']['year'])\n",
    "  return feat\n",
    "\n",
    "X = [feature(d) for d in data]\n",
    "y = [d['review/overall'] for d in data]\n",
    "theta,residuals,rank,s = numpy.linalg.lstsq(X, y)"
   ]
  },
  {
   "cell_type": "code",
   "execution_count": 5,
   "metadata": {
    "collapsed": false
   },
   "outputs": [
    {
     "data": {
      "text/plain": [
       "0.48915867194268153"
      ]
     },
     "execution_count": 5,
     "metadata": {},
     "output_type": "execute_result"
    }
   ],
   "source": [
    "MSE(X,y,theta)"
   ]
  },
  {
   "cell_type": "code",
   "execution_count": null,
   "metadata": {
    "collapsed": true
   },
   "outputs": [],
   "source": []
  }
 ],
 "metadata": {
  "anaconda-cloud": {},
  "kernelspec": {
   "display_name": "Python 2",
   "language": "python",
   "name": "python2"
  },
  "language_info": {
   "codemirror_mode": {
    "name": "ipython",
    "version": 2
   },
   "file_extension": ".py",
   "mimetype": "text/x-python",
   "name": "python",
   "nbconvert_exporter": "python",
   "pygments_lexer": "ipython2",
   "version": "2.7.12"
  }
 },
 "nbformat": 4,
 "nbformat_minor": 1
}
