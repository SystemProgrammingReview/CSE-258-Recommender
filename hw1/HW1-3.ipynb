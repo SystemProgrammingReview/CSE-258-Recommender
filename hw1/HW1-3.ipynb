{
 "cells": [
  {
   "cell_type": "code",
   "execution_count": 1,
   "metadata": {
    "collapsed": false,
    "scrolled": true
   },
   "outputs": [
    {
     "name": "stdout",
     "output_type": "stream",
     "text": [
      "Reading data...\n",
      "done\n"
     ]
    }
   ],
   "source": [
    "import numpy\n",
    "import urllib\n",
    "import scipy.optimize\n",
    "import random\n",
    "import csv\n",
    "\n",
    "print \"Reading data...\"\n",
    "with open('winequality-white.csv', 'rb') as csvfile:\n",
    "    reader = csv.reader(csvfile, delimiter=';')\n",
    "    data = []\n",
    "    for row in reader:\n",
    "        data.append(row)\n",
    "print \"done\""
   ]
  },
  {
   "cell_type": "code",
   "execution_count": 2,
   "metadata": {
    "collapsed": false,
    "scrolled": true
   },
   "outputs": [],
   "source": [
    "title = data[0]\n",
    "half = (len(data)-1)/2\n",
    "trainData = data[1:half+1]\n",
    "testData = data[half+1:]\n",
    "\n",
    "def feature(datum):\n",
    "  feat = [1] + [float(datum[i]) for i in range(11)]\n",
    "  return feat"
   ]
  },
  {
   "cell_type": "code",
   "execution_count": 3,
   "metadata": {
    "collapsed": false
   },
   "outputs": [
    {
     "name": "stdout",
     "output_type": "stream",
     "text": [
      "training\n",
      "done\n"
     ]
    }
   ],
   "source": [
    "print \"training\"\n",
    "X_train = [feature(d) for d in trainData]\n",
    "y_train = [float(d[11]) for d in trainData]\n",
    "theta,residuals,rank,s = numpy.linalg.lstsq(X_train, y_train)\n",
    "print \"done\""
   ]
  },
  {
   "cell_type": "code",
   "execution_count": 9,
   "metadata": {
    "collapsed": false,
    "scrolled": true
   },
   "outputs": [
    {
     "data": {
      "text/plain": [
       "array([  2.56420279e+02,   1.35421303e-01,  -1.72994866e+00,\n",
       "         1.02651152e-01,   1.09038568e-01,  -2.76775146e-01,\n",
       "         6.34332168e-03,   3.85023977e-05,  -2.58652809e+02,\n",
       "         1.19540566e+00,   8.33006285e-01,   9.79304353e-02])"
      ]
     },
     "execution_count": 9,
     "metadata": {},
     "output_type": "execute_result"
    }
   ],
   "source": [
    "theta"
   ]
  },
  {
   "cell_type": "code",
   "execution_count": 10,
   "metadata": {
    "collapsed": true
   },
   "outputs": [],
   "source": [
    "def MSE(X, y, theta):\n",
    "    theta = numpy.matrix(theta)\n",
    "    X = numpy.matrix(X)\n",
    "    y = numpy.matrix(y)\n",
    "    e = y.T - X*theta.T\n",
    "    mse = e.T * e\n",
    "    mse = numpy.array(mse.flatten().tolist()[0])\n",
    "    mse = mse / len(X)\n",
    "    return mse[0]"
   ]
  },
  {
   "cell_type": "code",
   "execution_count": 11,
   "metadata": {
    "collapsed": false
   },
   "outputs": [
    {
     "name": "stdout",
     "output_type": "stream",
     "text": [
      "MSE on training:  0.602307502903\n"
     ]
    }
   ],
   "source": [
    "print \"MSE on training: \", MSE(X_train, y_train, theta)"
   ]
  },
  {
   "cell_type": "code",
   "execution_count": 12,
   "metadata": {
    "collapsed": false
   },
   "outputs": [
    {
     "name": "stdout",
     "output_type": "stream",
     "text": [
      "MSE on testing:  0.562457130315\n"
     ]
    }
   ],
   "source": [
    "X_test = [feature(d) for d in testData]\n",
    "y_test = [float(d[11]) for d in testData]\n",
    "print \"MSE on testing: \", MSE(X_test, y_test, theta)"
   ]
  },
  {
   "cell_type": "code",
   "execution_count": null,
   "metadata": {
    "collapsed": true
   },
   "outputs": [],
   "source": []
  }
 ],
 "metadata": {
  "anaconda-cloud": {},
  "kernelspec": {
   "display_name": "Python 2",
   "language": "python",
   "name": "python2"
  },
  "language_info": {
   "codemirror_mode": {
    "name": "ipython",
    "version": 2
   },
   "file_extension": ".py",
   "mimetype": "text/x-python",
   "name": "python",
   "nbconvert_exporter": "python",
   "pygments_lexer": "ipython2",
   "version": "2.7.12"
  }
 },
 "nbformat": 4,
 "nbformat_minor": 1
}
