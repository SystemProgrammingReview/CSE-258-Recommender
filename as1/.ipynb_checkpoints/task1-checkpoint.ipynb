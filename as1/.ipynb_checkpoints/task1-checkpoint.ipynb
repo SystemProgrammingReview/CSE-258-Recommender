{
 "cells": [
  {
   "cell_type": "code",
   "execution_count": null,
   "metadata": {
    "collapsed": true
   },
   "outputs": [],
   "source": [
    "# last submit: Validation MAE = 0.16928, gdr(huber), outOf * 0.8 "
   ]
  },
  {
   "cell_type": "code",
   "execution_count": 3,
   "metadata": {
    "collapsed": false
   },
   "outputs": [],
   "source": [
    "import gzip\n",
    "import numpy\n",
    "from collections import defaultdict\n",
    "\n",
    "def readGz(f):\n",
    "    for l in gzip.open(f):\n",
    "        yield eval(l)"
   ]
  },
  {
   "cell_type": "code",
   "execution_count": 4,
   "metadata": {
    "collapsed": false
   },
   "outputs": [],
   "source": [
    "data = []\n",
    "for l in readGz(\"assignment1/train.json.gz\"):\n",
    "    data.append(l)"
   ]
  },
  {
   "cell_type": "code",
   "execution_count": 5,
   "metadata": {
    "collapsed": false
   },
   "outputs": [],
   "source": [
    "data_train = data[:100000]\n",
    "data_valid = data[100000:]"
   ]
  },
  {
   "cell_type": "code",
   "execution_count": 6,
   "metadata": {
    "collapsed": false
   },
   "outputs": [],
   "source": [
    "import math \n",
    "import numpy \n",
    "\n",
    "def inner(x,y):\n",
    "    return sum([x[i]*y[i] for i in range(len(x))])\n",
    "\n",
    "def sigmoid(x):\n",
    "    return 1.0 / (1 + numpy.exp(-x))"
   ]
  },
  {
   "cell_type": "code",
   "execution_count": 7,
   "metadata": {
    "collapsed": false
   },
   "outputs": [],
   "source": [
    "def feature(datum):\n",
    "    feat= [1]\n",
    "    feat.append(sigmoid(datum['helpful']['outOf'] * 0.8))\n",
    "    feat.append(datum['rating'])\n",
    "\n",
    "#   categoryID    \n",
    "    if (datum['categoryID'] == 0):\n",
    "        for i in [1,0,0,0,0]:\n",
    "            feat.append(i)\n",
    "    elif (datum['categoryID'] == 1):\n",
    "        for i in [0,1,0,0,0]:\n",
    "            feat.append(i)\n",
    "    elif (datum['categoryID'] == 2):\n",
    "        for i in [0,0,1,0,0]:\n",
    "            feat.append(i)\n",
    "    elif (datum['categoryID'] == 3):\n",
    "        for i in [0,0,0,1,0]:\n",
    "            feat.append(i)\n",
    "    elif (datum['categoryID'] == 4):\n",
    "        for i in [0,0,0,0,1]:\n",
    "            feat.append(i)\n",
    "            \n",
    "    return feat"
   ]
  },
  {
   "cell_type": "code",
   "execution_count": 8,
   "metadata": {
    "collapsed": false
   },
   "outputs": [],
   "source": [
    "X = [feature(d) for d in data if d['helpful']['outOf'] > 0]\n",
    "y = [d['helpful']['nHelpful'] * 1.0 / d['helpful']['outOf'] for d in data if d['helpful']['outOf'] > 0]"
   ]
  },
  {
   "cell_type": "code",
   "execution_count": 15,
   "metadata": {
    "collapsed": false
   },
   "outputs": [
    {
     "data": {
      "text/plain": [
       "GradientBoostingRegressor(alpha=0.9, criterion='friedman_mse', init=None,\n",
       "             learning_rate=0.01, loss='huber', max_depth=5,\n",
       "             max_features=None, max_leaf_nodes=None,\n",
       "             min_impurity_split=1e-07, min_samples_leaf=1,\n",
       "             min_samples_split=2, min_weight_fraction_leaf=0.0,\n",
       "             n_estimators=100, presort='auto', random_state=None,\n",
       "             subsample=1.0, verbose=0, warm_start=False)"
      ]
     },
     "execution_count": 15,
     "metadata": {},
     "output_type": "execute_result"
    }
   ],
   "source": [
    "from sklearn.ensemble import GradientBoostingRegressor as gdr\n",
    "regressor = gdr(learning_rate=0.01, max_depth=5, loss='huber')\n",
    "# regressor = gdr(loss='ls')\n",
    "regressor.fit(X,y)"
   ]
  },
  {
   "cell_type": "code",
   "execution_count": 16,
   "metadata": {
    "collapsed": false
   },
   "outputs": [],
   "source": [
    "# validation MAE\n",
    "X_v = [feature(d) for d in data_valid if d['helpful']['outOf'] > 0]\n",
    "o_v = [d['helpful']['outOf'] for d in data_valid if d['helpful']['outOf'] > 0]\n",
    "y_v = [d['helpful']['nHelpful'] for d in data_valid if d['helpful']['outOf'] > 0]\n",
    "predict = regressor.predict(X_v)"
   ]
  },
  {
   "cell_type": "code",
   "execution_count": 17,
   "metadata": {
    "collapsed": false
   },
   "outputs": [
    {
     "name": "stdout",
     "output_type": "stream",
     "text": [
      "Validation MAE = 0.16928\n"
     ]
    }
   ],
   "source": [
    "MAE = 0\n",
    "for i in range(len(predict)):\n",
    "    res = round(predict[i] * o_v[i])\n",
    "    MAE += math.fabs(res - y_v[i])\n",
    "        \n",
    "print(\"Validation MAE = \" + str(MAE / len(data_valid)))"
   ]
  },
  {
   "cell_type": "code",
   "execution_count": 18,
   "metadata": {
    "collapsed": false
   },
   "outputs": [],
   "source": [
    "# predict\n",
    "data_test = []\n",
    "for l in readGz(\"assignment1/test_Helpful.json.gz\"):\n",
    "    if l['helpful']['outOf'] > 0:\n",
    "        data_test.append(l)\n",
    "    \n",
    "X_test = [feature(d) for d in data_test]\n",
    "o_test = [d['helpful']['outOf'] for d in data_test]\n",
    "predict = regressor.predict(X_test)"
   ]
  },
  {
   "cell_type": "code",
   "execution_count": 19,
   "metadata": {
    "collapsed": false
   },
   "outputs": [],
   "source": [
    "reviews = {}\n",
    "for i in range(len(data_test)):\n",
    "    user,item, outOf = data_test[i]['reviewerID'], data_test[i]['itemID'], data_test[i]['helpful']['outOf']\n",
    "    key = user + ' ' + item + ' ' + str(outOf)\n",
    "    reviews[key] = predict[i]"
   ]
  },
  {
   "cell_type": "code",
   "execution_count": 20,
   "metadata": {
    "collapsed": false
   },
   "outputs": [],
   "source": [
    "# kaggle\n",
    "predictions = open(\"assignment1/predictions_Helpful.txt\", 'w')\n",
    "\n",
    "for l in open(\"assignment1/pairs_Helpful.txt\"): \n",
    "    if l.startswith(\"userID\"):\n",
    "        # first line\n",
    "        predictions.write(l)\n",
    "        continue\n",
    "    \n",
    "    u, i, outOf = l.strip().split('-')\n",
    "    key = u + ' ' + i + ' ' + outOf\n",
    "    outOf = int(outOf)\n",
    "    if outOf > 0:\n",
    "        res = round(outOf * reviews[key])\n",
    "    else:\n",
    "        res = 0.0\n",
    "    predictions.write(u + '-' + i + '-' + str(outOf) + ',' + str(res)+ '\\n')\n",
    "\n",
    "predictions.close ()"
   ]
  }
 ],
 "metadata": {
  "kernelspec": {
   "display_name": "Python 2",
   "language": "python",
   "name": "python2"
  },
  "language_info": {
   "codemirror_mode": {
    "name": "ipython",
    "version": 2
   },
   "file_extension": ".py",
   "mimetype": "text/x-python",
   "name": "python",
   "nbconvert_exporter": "python",
   "pygments_lexer": "ipython2",
   "version": "2.7.12"
  }
 },
 "nbformat": 4,
 "nbformat_minor": 2
}
