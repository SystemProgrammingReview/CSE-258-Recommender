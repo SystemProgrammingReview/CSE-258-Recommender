{
 "cells": [
  {
   "cell_type": "code",
   "execution_count": null,
   "metadata": {
    "collapsed": true
   },
   "outputs": [],
   "source": [
    "# optimize min"
   ]
  },
  {
   "cell_type": "code",
   "execution_count": 14,
   "metadata": {
    "collapsed": false
   },
   "outputs": [],
   "source": [
    "import gzip\n",
    "import numpy\n",
    "from collections import defaultdict\n",
    "\n",
    "def readGz(f):\n",
    "    for l in gzip.open(f):\n",
    "        yield eval(l)"
   ]
  },
  {
   "cell_type": "code",
   "execution_count": 15,
   "metadata": {
    "collapsed": false
   },
   "outputs": [],
   "source": [
    "data = []\n",
    "for l in readGz(\"assignment1/train.json.gz\"):\n",
    "    data.append(l)"
   ]
  },
  {
   "cell_type": "code",
   "execution_count": 16,
   "metadata": {
    "collapsed": false
   },
   "outputs": [],
   "source": [
    "import random\n",
    "\n",
    "# Randomly re-shuffle\n",
    "# numpy.random.shuffle(data)\n",
    "data_train = data[:100000]\n",
    "data_valid = data[100000:]"
   ]
  },
  {
   "cell_type": "code",
   "execution_count": 23,
   "metadata": {
    "collapsed": false
   },
   "outputs": [],
   "source": [
    "import math \n",
    "import numpy \n",
    "\n",
    "def inner(x,y):\n",
    "    return sum([x[i]*y[i] for i in range(len(x))])\n",
    "\n",
    "def sigmoid(x):\n",
    "    return 1.0 / (1 + numpy.exp(-x))"
   ]
  },
  {
   "cell_type": "code",
   "execution_count": 24,
   "metadata": {
    "collapsed": false
   },
   "outputs": [
    {
     "data": {
      "text/plain": [
       "0.7310585786300049"
      ]
     },
     "execution_count": 24,
     "metadata": {},
     "output_type": "execute_result"
    }
   ],
   "source": [
    "sigmoid(1)"
   ]
  },
  {
   "cell_type": "code",
   "execution_count": 46,
   "metadata": {
    "collapsed": false
   },
   "outputs": [],
   "source": [
    "def feature(datum):\n",
    "    feat= [1]\n",
    "#     feat.append(sigmoid(datum['helpful']['outOf']))\n",
    "    \n",
    "    feat.append(datum['rating'])\n",
    "\n",
    "#   categoryID    \n",
    "    if (datum['categoryID'] == 0):\n",
    "        for i in [1,0,0,0,0]:\n",
    "            feat.append(i)\n",
    "    elif (datum['categoryID'] == 1):\n",
    "        for i in [0,1,0,0,0]:\n",
    "            feat.append(i)\n",
    "    elif (datum['categoryID'] == 2):\n",
    "        for i in [0,0,1,0,0]:\n",
    "            feat.append(i)\n",
    "    elif (datum['categoryID'] == 3):\n",
    "        for i in [0,0,0,1,0]:\n",
    "            feat.append(i)\n",
    "    else:\n",
    "        for i in [0,0,0,0,1]:\n",
    "            feat.append(i)\n",
    "            \n",
    "    return feat"
   ]
  },
  {
   "cell_type": "code",
   "execution_count": 47,
   "metadata": {
    "collapsed": false
   },
   "outputs": [],
   "source": [
    "X_1 =  [feature(d) for d in data if d['helpful']['outOf'] > 2]\n",
    "X_2 =  [feature(d) for d in data if (d['helpful']['outOf'] > 0) & (d['helpful']['outOf'] < 3)]\n",
    "y_1 = [d['helpful']['nHelpful'] * 1.0 / d['helpful']['outOf'] for d in data if d['helpful']['outOf'] > 2]\n",
    "y_2 = [d['helpful']['nHelpful'] * 1.0 / d['helpful']['outOf'] for d in data if d['helpful']['outOf'] > 0 & d['helpful']['outOf'] < 3]"
   ]
  },
  {
   "cell_type": "code",
   "execution_count": 49,
   "metadata": {
    "collapsed": false
   },
   "outputs": [
    {
     "data": {
      "text/plain": [
       "[1, 4.0, 0, 1, 0, 0, 0]"
      ]
     },
     "execution_count": 49,
     "metadata": {},
     "output_type": "execute_result"
    }
   ],
   "source": [
    "X_1[0]"
   ]
  },
  {
   "cell_type": "code",
   "execution_count": null,
   "metadata": {
    "collapsed": false
   },
   "outputs": [],
   "source": [
    "# optimize min\n",
    "def err1(x):\n",
    "    error = [abs(d1 - inner(d2, x)) for d1, d2 in zip(y_1, X_1)]\n",
    "    return sum(error)\n",
    "\n",
    "def err2(x):\n",
    "    error = [abs(d1 - inner(d2, x)) for d1, d2 in zip(y_2, X_2)]\n",
    "    return sum(error)\n",
    "\n",
    "import scipy.optimize\n",
    "x1 = [0, 0, 0, 0, 0, 0, 0]\n",
    "x2 = [0, 0, 0, 0, 0, 0, 0]\n",
    "theta1 = scipy.optimize.minimize(err1, x1, method=\"Nelder-Mead\").x\n",
    "theta2 = scipy.optimize.minimize(err2, x2, method=\"Nelder-Mead\").x\n",
    "print theta1, theta2"
   ]
  },
  {
   "cell_type": "code",
   "execution_count": 42,
   "metadata": {
    "collapsed": false
   },
   "outputs": [
    {
     "name": "stdout",
     "output_type": "stream",
     "text": [
      "Validation MAE = 0.18148\n"
     ]
    }
   ],
   "source": [
    "# MAE\n",
    "MAE = 0\n",
    "for d in data_valid:\n",
    "    if d['helpful']['outOf'] > 2:\n",
    "        feat = feature(d)\n",
    "        predict = round(d['helpful']['outOf'] * inner(feat, theta1))\n",
    "        MAE += math.fabs(predict - d['helpful']['nHelpful'])\n",
    "    elif d['helpful']['outOf'] > 0 & d['helpful']['outOf'] < 3:\n",
    "        feat = feature(d)\n",
    "        predict = round(d['helpful']['outOf'] * inner(feat, theta2))\n",
    "        MAE += math.fabs(predict - d['helpful']['nHelpful'])\n",
    "        \n",
    "print(\"Validation MAE = \" + str(MAE / len(data_valid)))"
   ]
  },
  {
   "cell_type": "code",
   "execution_count": null,
   "metadata": {
    "collapsed": true
   },
   "outputs": [],
   "source": []
  },
  {
   "cell_type": "code",
   "execution_count": null,
   "metadata": {
    "collapsed": true
   },
   "outputs": [],
   "source": [
    "MAE = 0.17987 sigmoid(outOf)"
   ]
  },
  {
   "cell_type": "code",
   "execution_count": null,
   "metadata": {
    "collapsed": true
   },
   "outputs": [],
   "source": [
    "MAE = 0.18148 theta1/2 rating+ID"
   ]
  },
  {
   "cell_type": "code",
   "execution_count": null,
   "metadata": {
    "collapsed": true
   },
   "outputs": [],
   "source": []
  },
  {
   "cell_type": "code",
   "execution_count": 26,
   "metadata": {
    "collapsed": false
   },
   "outputs": [],
   "source": [
    "X = [feature(d) for d in data if d['helpful']['outOf'] > 0]\n",
    "y = [d['helpful']['nHelpful'] * 1.0 / d['helpful']['outOf'] for d in data if d['helpful']['outOf'] > 0]"
   ]
  },
  {
   "cell_type": "code",
   "execution_count": null,
   "metadata": {
    "collapsed": true
   },
   "outputs": [],
   "source": []
  },
  {
   "cell_type": "code",
   "execution_count": null,
   "metadata": {
    "collapsed": true
   },
   "outputs": [],
   "source": []
  },
  {
   "cell_type": "code",
   "execution_count": 32,
   "metadata": {
    "collapsed": true
   },
   "outputs": [],
   "source": [
    "# Kaggle\n",
    "reviews = {}\n",
    "for l in readGz(\"assignment1/test_Helpful.json.gz\"):\n",
    "    user,item = l['reviewerID'], l['itemID']\n",
    "    key = user + ' ' + item\n",
    "    reviews[key] = {}\n",
    "    reviews[key][\"outOf\"] = l[\"helpful\"][\"outOf\"]\n",
    "    \n",
    "predictions = open(\"assignment1/predictions_Helpful.txt\", 'w')\n",
    "\n",
    "for l in open(\"assignment1/pairs_Helpful.txt\"): \n",
    "    if l.startswith(\"userID\"):\n",
    "        # first line\n",
    "        predictions.write(l)\n",
    "        continue\n",
    "    \n",
    "    u, i, outOf = l.strip().split('-')\n",
    "    outOf = int(outOf)\n",
    "    key = u + ' ' + i\n",
    "    feat = [1, sigmoid(reviews[key][\"outOf\"])]\n",
    "    predict = round(outOf * inner(feat, theta))\n",
    "    predictions.write(u + '-' + i + '-' + str(outOf) + ',' + str(predict)+ '\\n')\n",
    "\n",
    "predictions.close ()"
   ]
  },
  {
   "cell_type": "code",
   "execution_count": null,
   "metadata": {
    "collapsed": true
   },
   "outputs": [],
   "source": []
  },
  {
   "cell_type": "code",
   "execution_count": null,
   "metadata": {
    "collapsed": true
   },
   "outputs": [],
   "source": []
  },
  {
   "cell_type": "code",
   "execution_count": null,
   "metadata": {
    "collapsed": true
   },
   "outputs": [],
   "source": []
  },
  {
   "cell_type": "code",
   "execution_count": null,
   "metadata": {
    "collapsed": true
   },
   "outputs": [],
   "source": []
  },
  {
   "cell_type": "code",
   "execution_count": null,
   "metadata": {
    "collapsed": true
   },
   "outputs": [],
   "source": []
  },
  {
   "cell_type": "code",
   "execution_count": null,
   "metadata": {
    "collapsed": true
   },
   "outputs": [],
   "source": []
  },
  {
   "cell_type": "code",
   "execution_count": null,
   "metadata": {
    "collapsed": true
   },
   "outputs": [],
   "source": []
  },
  {
   "cell_type": "code",
   "execution_count": null,
   "metadata": {
    "collapsed": true
   },
   "outputs": [],
   "source": []
  },
  {
   "cell_type": "code",
   "execution_count": null,
   "metadata": {
    "collapsed": true
   },
   "outputs": [],
   "source": []
  }
 ],
 "metadata": {
  "kernelspec": {
   "display_name": "Python 2",
   "language": "python",
   "name": "python2"
  },
  "language_info": {
   "codemirror_mode": {
    "name": "ipython",
    "version": 2
   },
   "file_extension": ".py",
   "mimetype": "text/x-python",
   "name": "python",
   "nbconvert_exporter": "python",
   "pygments_lexer": "ipython2",
   "version": "2.7.12"
  }
 },
 "nbformat": 4,
 "nbformat_minor": 2
}
