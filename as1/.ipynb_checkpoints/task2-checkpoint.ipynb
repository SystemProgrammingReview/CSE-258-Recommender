{
 "cells": [
  {
   "cell_type": "code",
   "execution_count": null,
   "metadata": {
    "collapsed": true
   },
   "outputs": [],
   "source": [
    "# last submit: 4.5, 9.3"
   ]
  },
  {
   "cell_type": "code",
   "execution_count": 2,
   "metadata": {
    "collapsed": false
   },
   "outputs": [],
   "source": [
    "import gzip\n",
    "from collections import defaultdict\n",
    "import math\n",
    "import scipy.optimize\n",
    "from sklearn import svm\n",
    "import numpy\n",
    "import string\n",
    "\n",
    "def readGz(f):\n",
    "    for l in gzip.open(f):\n",
    "        yield eval(l)"
   ]
  },
  {
   "cell_type": "code",
   "execution_count": 3,
   "metadata": {
    "collapsed": true
   },
   "outputs": [],
   "source": [
    "data = []\n",
    "for l in readGz(\"assignment1/train.json.gz\"):\n",
    "    data.append(l)\n",
    "\n",
    "data_train = data[:100000]\n",
    "data_valid = data[100000:]\n",
    "UserRating = defaultdict(list)\n",
    "ItemRating = defaultdict(list)\n",
    "for r in data:\n",
    "    UserRating[r['reviewerID']].append(r)\n",
    "    ItemRating[r['itemID']].append(r)"
   ]
  },
  {
   "cell_type": "code",
   "execution_count": 4,
   "metadata": {
    "collapsed": true
   },
   "outputs": [],
   "source": [
    "trainRatings = [r['rating'] for r in data]\n",
    "globalAverage = sum(trainRatings) * 1.0 / len(trainRatings)\n",
    "\n",
    "betaU = {}\n",
    "betaI = {}\n",
    "for u in UserRating:\n",
    "    betaU[u] = 0\n",
    "\n",
    "for i in ItemRating:\n",
    "    betaI[i] = 0\n",
    "\n",
    "alpha = globalAverage "
   ]
  },
  {
   "cell_type": "code",
   "execution_count": 5,
   "metadata": {
    "collapsed": true
   },
   "outputs": [],
   "source": [
    "def iterate(lamU, lamI):\n",
    "    # update alpha\n",
    "    newAlpha = 0\n",
    "    for r in data:\n",
    "        newAlpha += r['rating'] - (betaU[r['reviewerID']] + betaI[r['itemID']])\n",
    "    alpha = newAlpha / len(data)\n",
    "    \n",
    "    # update betaU\n",
    "    for u in UserRating:\n",
    "        newBetaU = 0\n",
    "        for r in UserRating[u]:\n",
    "            newBetaU += r['rating'] - (alpha + betaI[r['itemID']])\n",
    "        betaU[u] = newBetaU / (lamU + len(UserRating[u]))\n",
    "  \n",
    "    # update betaI\n",
    "    for i in ItemRating:\n",
    "        newBetaI = 0\n",
    "        for r in ItemRating[i]:\n",
    "            newBetaI += r['rating'] - (alpha + betaU[r['reviewerID']])\n",
    "        betaI[i] = newBetaI / (lamI + len(ItemRating[i]))\n",
    "  \n",
    "    # cal mse\n",
    "    mse = 0\n",
    "    for r in data:\n",
    "        predict = alpha + betaU[r['reviewerID']] + betaI[r['itemID']]\n",
    "        mse += (r['rating'] - predict)**2\n",
    "    \n",
    "    # add regularizer\n",
    "    regU = 0\n",
    "    regI = 0\n",
    "    for u in betaU:\n",
    "        regU += betaU[u]**2\n",
    "    for i in betaI:\n",
    "        regI += betaI[i]**2\n",
    "    \n",
    "    mse /= len(data)\n",
    "    return mse, mse + lamU*regU + lamI*regI\n"
   ]
  },
  {
   "cell_type": "code",
   "execution_count": 6,
   "metadata": {
    "collapsed": false
   },
   "outputs": [
    {
     "name": "stdout",
     "output_type": "stream",
     "text": [
      "MSE = 0.806253035\n"
     ]
    }
   ],
   "source": [
    "# lamU = 4.5 \n",
    "# lamI = 9.3\n",
    "# MSE = 0.806253035\n",
    "# iteration = 30\n",
    "\n",
    "mse,objective = iterate(1,1)\n",
    "newMSE,newObjective = iterate(1,1)\n",
    "\n",
    "n = 1\n",
    "while n < 30 or objective - newObjective > 0.0001:\n",
    "    mse, objective = newMSE, newObjective\n",
    "    newMSE, newObjective = iterate(4.5, 9.3)\n",
    "    n += 1\n",
    "\n",
    "validMSE = 0\n",
    "for r in data_valid:\n",
    "    bu = 0\n",
    "    bi = 0\n",
    "    if r['reviewerID'] in betaU:\n",
    "        bu = betaU[r['reviewerID']]\n",
    "    if r['itemID'] in betaI:\n",
    "        bi = betaI[r['itemID']]\n",
    "    prediction = alpha + bu + bi\n",
    "    validMSE += (r['rating'] - prediction)**2\n",
    "\n",
    "validMSE /= len(data_valid)\n",
    "print(\"MSE = \" + str(validMSE))"
   ]
  },
  {
   "cell_type": "code",
   "execution_count": 9,
   "metadata": {
    "collapsed": true
   },
   "outputs": [],
   "source": [
    "predictions = open(\"assignment1/predictions_Rating.txt\", 'w')\n",
    "for l in open(\"assignment1/pairs_Rating.txt\"):\n",
    "    if l.startswith(\"userID\"):\n",
    "        #header\n",
    "        predictions.write(l)\n",
    "        continue\n",
    "    u,i = l.strip().split('-')\n",
    "    \n",
    "    x = alpha\n",
    "    if u in betaU:\n",
    "        x += betaU[u]\n",
    "    if i in betaI:\n",
    "        x += betaI[i] \n",
    "    predictions.write(u + '-' + i + ',' + str(x) + '\\n')\n",
    "\n",
    "predictions.close()"
   ]
  },
  {
   "cell_type": "code",
   "execution_count": null,
   "metadata": {
    "collapsed": true
   },
   "outputs": [],
   "source": []
  },
  {
   "cell_type": "code",
   "execution_count": null,
   "metadata": {
    "collapsed": true
   },
   "outputs": [],
   "source": []
  },
  {
   "cell_type": "code",
   "execution_count": null,
   "metadata": {
    "collapsed": true
   },
   "outputs": [],
   "source": []
  },
  {
   "cell_type": "code",
   "execution_count": null,
   "metadata": {
    "collapsed": true
   },
   "outputs": [],
   "source": []
  },
  {
   "cell_type": "code",
   "execution_count": null,
   "metadata": {
    "collapsed": true
   },
   "outputs": [],
   "source": []
  },
  {
   "cell_type": "code",
   "execution_count": null,
   "metadata": {
    "collapsed": true
   },
   "outputs": [],
   "source": []
  },
  {
   "cell_type": "code",
   "execution_count": null,
   "metadata": {
    "collapsed": true
   },
   "outputs": [],
   "source": []
  },
  {
   "cell_type": "code",
   "execution_count": null,
   "metadata": {
    "collapsed": true
   },
   "outputs": [],
   "source": []
  },
  {
   "cell_type": "code",
   "execution_count": null,
   "metadata": {
    "collapsed": true
   },
   "outputs": [],
   "source": []
  }
 ],
 "metadata": {
  "kernelspec": {
   "display_name": "Python 2",
   "language": "python",
   "name": "python2"
  },
  "language_info": {
   "codemirror_mode": {
    "name": "ipython",
    "version": 2
   },
   "file_extension": ".py",
   "mimetype": "text/x-python",
   "name": "python",
   "nbconvert_exporter": "python",
   "pygments_lexer": "ipython2",
   "version": "2.7.12"
  }
 },
 "nbformat": 4,
 "nbformat_minor": 2
}
