{
 "cells": [
  {
   "cell_type": "code",
   "execution_count": null,
   "metadata": {
    "collapsed": true
   },
   "outputs": [],
   "source": [
    "# sklearn linear regression"
   ]
  },
  {
   "cell_type": "code",
   "execution_count": 420,
   "metadata": {
    "collapsed": false
   },
   "outputs": [],
   "source": [
    "import gzip\n",
    "import numpy\n",
    "from collections import defaultdict\n",
    "\n",
    "def readGz(f):\n",
    "    for l in gzip.open(f):\n",
    "        yield eval(l)"
   ]
  },
  {
   "cell_type": "code",
   "execution_count": 421,
   "metadata": {
    "collapsed": false
   },
   "outputs": [],
   "source": [
    "data = []\n",
    "for l in readGz(\"assignment1/train.json.gz\"):\n",
    "    data.append(l)"
   ]
  },
  {
   "cell_type": "code",
   "execution_count": 422,
   "metadata": {
    "collapsed": false
   },
   "outputs": [],
   "source": [
    "import random\n",
    "\n",
    "# Randomly re-shuffle\n",
    "# numpy.random.shuffle(data)\n",
    "data_train = data[:100000]\n",
    "data_valid = data[100000:]"
   ]
  },
  {
   "cell_type": "code",
   "execution_count": 423,
   "metadata": {
    "collapsed": false
   },
   "outputs": [],
   "source": [
    "import math \n",
    "\n",
    "def inner(x,y):\n",
    "    return sum([x[i]*y[i] for i in range(len(x))])\n",
    "\n",
    "def sigmoid(x):\n",
    "    return 1.0 / (1 + exp(-x))"
   ]
  },
  {
   "cell_type": "code",
   "execution_count": 443,
   "metadata": {
    "collapsed": false
   },
   "outputs": [],
   "source": [
    "def feature(datum):\n",
    "    feat= [1]\n",
    "    feat.append(sigmoid(datum['helpful']['outOf']))\n",
    "    feat.append(len(datum['reviewText'].split()))  \n",
    "    feat.append(datum['rating'] * 1.0 / 5.0)\n",
    "#   categoryID    \n",
    "    if (datum['categoryID'] == 0):\n",
    "        for i in [1,0,0,0,0]:\n",
    "            feat.append(i)\n",
    "    elif (datum['categoryID'] == 1):\n",
    "        for i in [0,1,0,0,0]:\n",
    "            feat.append(i)\n",
    "    elif (datum['categoryID'] == 2):\n",
    "        for i in [0,0,1,0,0]:\n",
    "            feat.append(i)\n",
    "    elif (datum['categoryID'] == 3):\n",
    "        for i in [0,0,0,1,0]:\n",
    "            feat.append(i)\n",
    "    elif (datum['categoryID'] == 4):\n",
    "        for i in [0,0,0,0,1]:\n",
    "            feat.append(i)\n",
    "            \n",
    "    return feat"
   ]
  },
  {
   "cell_type": "code",
   "execution_count": 444,
   "metadata": {
    "collapsed": true
   },
   "outputs": [],
   "source": [
    "X = [feature(d) for d in data if d['helpful']['outOf'] > 0]\n",
    "y = [d['helpful']['nHelpful'] * 1.0 / d['helpful']['outOf'] for d in data if d['helpful']['outOf'] > 0]"
   ]
  },
  {
   "cell_type": "code",
   "execution_count": 445,
   "metadata": {
    "collapsed": true
   },
   "outputs": [],
   "source": [
    "X_1 = [feature(d) for d in data if d['helpful']['outOf'] > 2]\n",
    "X_2 = [feature(d) for d in data if d['helpful']['outOf'] > 0 & d['helpful']['outOf'] < 3]\n",
    "y_1 = [d['helpful']['nHelpful'] * 1.0 / d['helpful']['outOf'] for d in data if d['helpful']['outOf'] > 2]\n",
    "y_2 = [d['helpful']['nHelpful'] * 1.0 / d['helpful']['outOf'] for d in data if d['helpful']['outOf'] > 0 & d['helpful']['outOf'] < 3]"
   ]
  },
  {
   "cell_type": "code",
   "execution_count": 446,
   "metadata": {
    "collapsed": false
   },
   "outputs": [
    {
     "data": {
      "text/plain": [
       "LinearRegression(copy_X=True, fit_intercept=True, n_jobs=1, normalize=False)"
      ]
     },
     "execution_count": 446,
     "metadata": {},
     "output_type": "execute_result"
    }
   ],
   "source": [
    "import numpy as np\n",
    "from sklearn import linear_model\n",
    "\n",
    "regr1 = linear_model.LinearRegression()\n",
    "regr2 = linear_model.LinearRegression()\n",
    "regr1.fit(X_1, y_1)\n",
    "regr2.fit(X_2, y_2)"
   ]
  },
  {
   "cell_type": "code",
   "execution_count": 447,
   "metadata": {
    "collapsed": false
   },
   "outputs": [],
   "source": [
    "X_v_1 = [feature(d) for d in data_valid if d['helpful']['outOf'] > 2]\n",
    "out_1 = [d['helpful']['outOf'] for d in data_valid if d['helpful']['outOf'] > 2]\n",
    "y_v_1 = [d['helpful']['nHelpful'] for d in data_valid if d['helpful']['outOf'] > 2]\n",
    "\n",
    "X_v_2 = [feature(d) for d in data_valid if d['helpful']['outOf'] > 0 & d['helpful']['outOf'] < 3]\n",
    "out_2 = [d['helpful']['outOf'] for d in data_valid if d['helpful']['outOf'] > 0 & d['helpful']['outOf'] < 3]\n",
    "y_v_2 = [d['helpful']['nHelpful'] for d in data_valid if d['helpful']['outOf'] > 0 & d['helpful']['outOf'] < 3]\n"
   ]
  },
  {
   "cell_type": "code",
   "execution_count": 448,
   "metadata": {
    "collapsed": true
   },
   "outputs": [],
   "source": [
    "predict1 = regr1.predict(X_v_1)\n",
    "predict2 = regr2.predict(X_v_2)"
   ]
  },
  {
   "cell_type": "code",
   "execution_count": 449,
   "metadata": {
    "collapsed": false
   },
   "outputs": [
    {
     "name": "stdout",
     "output_type": "stream",
     "text": [
      "MAE: 0.31941\n"
     ]
    }
   ],
   "source": [
    "MAE = 0\n",
    "for i in range(len(predict1)):\n",
    "    res = round(predict1[i] * out_1[i])\n",
    "    MAE += math.fabs(res - y_v_1[i])\n",
    "    \n",
    "for i in range(len(predict2)):\n",
    "    res = round(predict2[i] * out_2[i])\n",
    "    MAE += math.fabs(res - y_v_2[i])\n",
    "    \n",
    "MAE /= len(data_valid)\n",
    "print \"MAE: \" + str(MAE)"
   ]
  },
  {
   "cell_type": "code",
   "execution_count": 450,
   "metadata": {
    "collapsed": false
   },
   "outputs": [],
   "source": [
    "from sklearn.ensemble import GradientBoostingRegressor as gdr\n",
    "regressor1 = gdr(loss='ls')\n",
    "regressor1.fit(X_1, y_1)\n",
    "predict3 = regressor1.predict(X_v_1)\n",
    "\n",
    "regressor2 = gdr(loss='ls')\n",
    "regressor2.fit(X_2, y_2)\n",
    "predict4 = regressor2.predict(X_v_2)"
   ]
  },
  {
   "cell_type": "code",
   "execution_count": 451,
   "metadata": {
    "collapsed": false
   },
   "outputs": [
    {
     "name": "stdout",
     "output_type": "stream",
     "text": [
      "MAE: 0.31941\n"
     ]
    }
   ],
   "source": [
    "MAE1 = 0\n",
    "for i in range(len(predict1)):\n",
    "    res = round(predict1[i] * out_1[i])\n",
    "    MAE1 += math.fabs(res - y_v_1[i])\n",
    "    \n",
    "for i in range(len(predict2)):\n",
    "    res = round(predict2[i] * out_2[i])\n",
    "    MAE1 += math.fabs(res - y_v_2[i])\n",
    "    \n",
    "MAE1 /= len(data_valid)\n",
    "print \"MAE: \" + str(MAE1)"
   ]
  },
  {
   "cell_type": "code",
   "execution_count": null,
   "metadata": {
    "collapsed": true
   },
   "outputs": [],
   "source": []
  },
  {
   "cell_type": "code",
   "execution_count": null,
   "metadata": {
    "collapsed": true
   },
   "outputs": [],
   "source": [
    "MAE: 0.17423"
   ]
  },
  {
   "cell_type": "code",
   "execution_count": null,
   "metadata": {
    "collapsed": true
   },
   "outputs": [],
   "source": []
  },
  {
   "cell_type": "code",
   "execution_count": null,
   "metadata": {
    "collapsed": true
   },
   "outputs": [],
   "source": []
  },
  {
   "cell_type": "code",
   "execution_count": 312,
   "metadata": {
    "collapsed": false
   },
   "outputs": [
    {
     "name": "stdout",
     "output_type": "stream",
     "text": [
      "Validation MAE = 0.20251\n"
     ]
    }
   ],
   "source": [
    "# MAE\n",
    "MAE = 0\n",
    "for d in data_valid:\n",
    "    if d['helpful']['outOf'] > 0:\n",
    "        feat = feature(d)\n",
    "        predict = round(d['helpful']['outOf'] * inner(feat, theta1))\n",
    "        MAE += math.fabs(predict - d['helpful']['nHelpful'])\n",
    "\n",
    "print(\"Validation MAE = \" + str(MAE / len(data_valid)))"
   ]
  },
  {
   "cell_type": "code",
   "execution_count": null,
   "metadata": {
    "collapsed": true
   },
   "outputs": [],
   "source": []
  },
  {
   "cell_type": "code",
   "execution_count": null,
   "metadata": {
    "collapsed": true
   },
   "outputs": [],
   "source": [
    "MAE = 0.17987 sigmoid(outOf)"
   ]
  },
  {
   "cell_type": "code",
   "execution_count": null,
   "metadata": {
    "collapsed": true
   },
   "outputs": [],
   "source": []
  },
  {
   "cell_type": "code",
   "execution_count": null,
   "metadata": {
    "collapsed": true
   },
   "outputs": [],
   "source": []
  },
  {
   "cell_type": "code",
   "execution_count": null,
   "metadata": {
    "collapsed": true
   },
   "outputs": [],
   "source": []
  },
  {
   "cell_type": "code",
   "execution_count": null,
   "metadata": {
    "collapsed": true
   },
   "outputs": [],
   "source": []
  },
  {
   "cell_type": "code",
   "execution_count": null,
   "metadata": {
    "collapsed": true
   },
   "outputs": [],
   "source": []
  },
  {
   "cell_type": "code",
   "execution_count": null,
   "metadata": {
    "collapsed": true
   },
   "outputs": [],
   "source": []
  },
  {
   "cell_type": "code",
   "execution_count": 224,
   "metadata": {
    "collapsed": true
   },
   "outputs": [],
   "source": [
    "# Kaggle\n",
    "reviews = {}\n",
    "for l in readGz(\"assignment1/test_Helpful.json.gz\"):\n",
    "    user,item = l['reviewerID'], l['itemID']\n",
    "    key = user + ' ' + item\n",
    "    reviews[key] = {}\n",
    "    reviews[key][\"outOf\"] = l[\"helpful\"][\"outOf\"]\n",
    "    \n",
    "predictions = open(\"assignment1/predictions_Helpful.txt\", 'w')\n",
    "\n",
    "for l in open(\"assignment1/pairs_Helpful.txt\"): \n",
    "    if l.startswith(\"userID\"):\n",
    "        # first line\n",
    "        predictions.write(l)\n",
    "        continue\n",
    "    \n",
    "    u, i, outOf = l.strip().split('-')\n",
    "    outOf = int(outOf)\n",
    "    key = u + ' ' + i\n",
    "    feat = [1, sigmoid(reviews[key][\"outOf\"])]\n",
    "    predict = round(outOf * inner(feat, theta))\n",
    "    predictions.write(u + '-' + i + '-' + str(outOf) + ',' + str(predict)+ '\\n')\n",
    "\n",
    "predictions.close ()"
   ]
  },
  {
   "cell_type": "code",
   "execution_count": null,
   "metadata": {
    "collapsed": true
   },
   "outputs": [],
   "source": []
  },
  {
   "cell_type": "code",
   "execution_count": null,
   "metadata": {
    "collapsed": true
   },
   "outputs": [],
   "source": []
  },
  {
   "cell_type": "code",
   "execution_count": null,
   "metadata": {
    "collapsed": true
   },
   "outputs": [],
   "source": []
  },
  {
   "cell_type": "code",
   "execution_count": null,
   "metadata": {
    "collapsed": true
   },
   "outputs": [],
   "source": []
  },
  {
   "cell_type": "code",
   "execution_count": null,
   "metadata": {
    "collapsed": true
   },
   "outputs": [],
   "source": []
  },
  {
   "cell_type": "code",
   "execution_count": null,
   "metadata": {
    "collapsed": true
   },
   "outputs": [],
   "source": []
  },
  {
   "cell_type": "code",
   "execution_count": null,
   "metadata": {
    "collapsed": true
   },
   "outputs": [],
   "source": []
  },
  {
   "cell_type": "code",
   "execution_count": null,
   "metadata": {
    "collapsed": true
   },
   "outputs": [],
   "source": []
  },
  {
   "cell_type": "code",
   "execution_count": null,
   "metadata": {
    "collapsed": true
   },
   "outputs": [],
   "source": []
  }
 ],
 "metadata": {
  "kernelspec": {
   "display_name": "Python 2",
   "language": "python",
   "name": "python2"
  },
  "language_info": {
   "codemirror_mode": {
    "name": "ipython",
    "version": 2
   },
   "file_extension": ".py",
   "mimetype": "text/x-python",
   "name": "python",
   "nbconvert_exporter": "python",
   "pygments_lexer": "ipython2",
   "version": "2.7.12"
  }
 },
 "nbformat": 4,
 "nbformat_minor": 2
}
