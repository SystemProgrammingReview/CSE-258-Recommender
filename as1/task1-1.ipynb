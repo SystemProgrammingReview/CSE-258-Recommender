{
 "cells": [
  {
   "cell_type": "code",
   "execution_count": null,
   "metadata": {
    "collapsed": true
   },
   "outputs": [],
   "source": [
    "# optimize min"
   ]
  },
  {
   "cell_type": "code",
   "execution_count": 124,
   "metadata": {
    "collapsed": false
   },
   "outputs": [],
   "source": [
    "import gzip\n",
    "import numpy\n",
    "from collections import defaultdict\n",
    "\n",
    "def readGz(f):\n",
    "    for l in gzip.open(f):\n",
    "        yield eval(l)"
   ]
  },
  {
   "cell_type": "code",
   "execution_count": 125,
   "metadata": {
    "collapsed": false
   },
   "outputs": [],
   "source": [
    "data = []\n",
    "for l in readGz(\"assignment1/train.json.gz\"):\n",
    "    data.append(l)"
   ]
  },
  {
   "cell_type": "code",
   "execution_count": 126,
   "metadata": {
    "collapsed": false
   },
   "outputs": [],
   "source": [
    "import random\n",
    "\n",
    "# Randomly re-shuffle\n",
    "# numpy.random.shuffle(data)\n",
    "data_train = data[:100000]\n",
    "data_valid = data[100000:]"
   ]
  },
  {
   "cell_type": "code",
   "execution_count": 127,
   "metadata": {
    "collapsed": false
   },
   "outputs": [],
   "source": [
    "import math \n",
    "import numpy \n",
    "\n",
    "def inner(x,y):\n",
    "    return sum([x[i]*y[i] for i in range(len(x))])\n",
    "\n",
    "def sigmoid(x):\n",
    "    return 1.0 / (1 + numpy.exp(-x))"
   ]
  },
  {
   "cell_type": "code",
   "execution_count": 128,
   "metadata": {
    "collapsed": false
   },
   "outputs": [
    {
     "data": {
      "text/plain": [
       "200000"
      ]
     },
     "execution_count": 128,
     "metadata": {},
     "output_type": "execute_result"
    }
   ],
   "source": [
    "len(data)"
   ]
  },
  {
   "cell_type": "code",
   "execution_count": 129,
   "metadata": {
    "collapsed": false
   },
   "outputs": [],
   "source": [
    "def feature(datum):\n",
    "    feat= [1]\n",
    "    feat.append(sigmoid(datum['helpful']['outOf']))\n",
    "    feat.append(datum['rating'] * 1.0 / 5.0)\n",
    "#     feat.append(datum['nWords'])\n",
    "\n",
    "    if (datum['categoryID'] == 0):\n",
    "        for i in [1,0,0,0,0]:\n",
    "            feat.append(i)\n",
    "    elif (datum['categoryID'] == 1):\n",
    "        for i in [0,1,0,0,0]:\n",
    "            feat.append(i)\n",
    "    elif (datum['categoryID'] == 2):\n",
    "        for i in [0,0,1,0,0]:\n",
    "            feat.append(i)\n",
    "    elif (datum['categoryID'] == 3):\n",
    "        for i in [0,0,0,1,0]:\n",
    "            feat.append(i)\n",
    "    elif (datum['categoryID'] == 4):\n",
    "        for i in [0,0,0,0,1]:\n",
    "            feat.append(i)\n",
    "            \n",
    "    return feat"
   ]
  },
  {
   "cell_type": "code",
   "execution_count": 120,
   "metadata": {
    "collapsed": false
   },
   "outputs": [],
   "source": [
    "X_1 = [feature(d) for d in data if d['helpful']['outOf'] > 2]\n",
    "X_2 = [feature(d) for d in data if d['helpful']['outOf'] > 0 & d['helpful']['outOf'] < 3]\n",
    "y_1 = [d['helpful']['nHelpful'] * 1.0 / d['helpful']['outOf'] for d in data if d['helpful']['outOf'] > 2]\n",
    "y_2 = [d['helpful']['nHelpful'] * 1.0 / d['helpful']['outOf'] for d in data if d['helpful']['outOf'] > 0 & d['helpful']['outOf'] < 3]\n"
   ]
  },
  {
   "cell_type": "code",
   "execution_count": 131,
   "metadata": {
    "collapsed": false
   },
   "outputs": [],
   "source": [
    "X = [feature(d) for d in data if d['helpful']['outOf'] > 0]\n",
    "y = [d['helpful']['nHelpful'] * 1.0 / d['helpful']['outOf'] for d in data if d['helpful']['outOf'] > 0]"
   ]
  },
  {
   "cell_type": "code",
   "execution_count": 133,
   "metadata": {
    "collapsed": false
   },
   "outputs": [
    {
     "name": "stdout",
     "output_type": "stream",
     "text": [
      "[  4.52744703e-01  -3.43388595e-07   3.00288428e-01   2.46967120e-01\n",
      "   2.46967121e-01  -9.67600570e-02  -4.52574047e-01  -3.00393642e-01]\n"
     ]
    }
   ],
   "source": [
    "# optimize min\n",
    "def err1(x):\n",
    "    error = [abs(d1 - inner(d2, x)) for d1, d2 in zip(y, X)]\n",
    "    return sum(error)\n",
    "\n",
    "# def err2(x):\n",
    "#     error = [abs(d1 - inner(d2, x)) for d1, d2 in zip(y_2, X_2)]\n",
    "#     return sum(error)\n",
    "\n",
    "import scipy.optimize\n",
    "x1 = [0, 0, 0, 0, 0, 0, 0, 0]\n",
    "# x2 = [0, 0, 0]\n",
    "theta1 = scipy.optimize.minimize(err1, x1, method=\"Nelder-Mead\").x\n",
    "# theta2 = scipy.optimize.minimize(err2, x2, method=\"Nelder-Mead\").x\n",
    "print theta1"
   ]
  },
  {
   "cell_type": "code",
   "execution_count": 132,
   "metadata": {
    "collapsed": false
   },
   "outputs": [
    {
     "data": {
      "text/plain": [
       "[1, 0.88079707797788231, 0.6, 1, 0, 0, 0, 0]"
      ]
     },
     "execution_count": 132,
     "metadata": {},
     "output_type": "execute_result"
    }
   ],
   "source": [
    "X[0]"
   ]
  },
  {
   "cell_type": "code",
   "execution_count": 134,
   "metadata": {
    "collapsed": false
   },
   "outputs": [
    {
     "name": "stdout",
     "output_type": "stream",
     "text": [
      "Validation MAE = 0.19205\n"
     ]
    }
   ],
   "source": [
    "# MAE\n",
    "MAE = 0\n",
    "for d in data_valid:\n",
    "    if d['helpful']['outOf'] > 0:\n",
    "        feat = feature(d)\n",
    "        predict = round(d['helpful']['outOf'] * inner(feat, theta1))\n",
    "        MAE += math.fabs(predict - d['helpful']['nHelpful'])\n",
    "#     elif d['helpful']['outOf'] > 0 & d['helpful']['outOf'] < 3:\n",
    "#         feat = feature(d)\n",
    "#         predict = round(d['helpful']['outOf'] * inner(feat, theta2))\n",
    "#         MAE += math.fabs(predict - d['helpful']['nHelpful'])\n",
    "        \n",
    "print(\"Validation MAE = \" + str(MAE / len(data_valid)))"
   ]
  },
  {
   "cell_type": "code",
   "execution_count": null,
   "metadata": {
    "collapsed": true
   },
   "outputs": [],
   "source": []
  },
  {
   "cell_type": "code",
   "execution_count": null,
   "metadata": {
    "collapsed": true
   },
   "outputs": [],
   "source": [
    "MAE = 0.17987 sigmoid(outOf)"
   ]
  },
  {
   "cell_type": "code",
   "execution_count": null,
   "metadata": {
    "collapsed": true
   },
   "outputs": [],
   "source": [
    "MAE = 0.17881 sigmoid(outOf) + rating / 5.0 + theta 1/2(>2, <=2)"
   ]
  },
  {
   "cell_type": "code",
   "execution_count": 118,
   "metadata": {
    "collapsed": true
   },
   "outputs": [],
   "source": [
    "# Kaggle\n",
    "reviews = {}\n",
    "for l in readGz(\"assignment1/test_Helpful.json.gz\"):\n",
    "    user,item = l['reviewerID'], l['itemID']\n",
    "    key = user + ' ' + item\n",
    "    reviews[key] = {}\n",
    "    reviews[key]['outOf'] = l['helpful']['outOf']\n",
    "    reviews[key]['rating'] = l['rating']\n",
    "    \n",
    "predictions = open(\"assignment1/predictions_Helpful.txt\", 'w')\n",
    "\n",
    "for l in open(\"assignment1/pairs_Helpful.txt\"): \n",
    "    if l.startswith(\"userID\"):\n",
    "        # first line\n",
    "        predictions.write(l)\n",
    "        continue\n",
    "    \n",
    "    u, i, outOf = l.strip().split('-')\n",
    "    outOf = int(outOf)\n",
    "    key = u + ' ' + i\n",
    "    feat = [1, sigmoid(reviews[key][\"outOf\"]), reviews[key]['rating'] * 1.0 /5.0]\n",
    "    \n",
    "    if outOf == 1:\n",
    "        predict = round(outOf * inner(feat, theta1))\n",
    "    elif outOf == 2:\n",
    "        predict = round(outOf * inner(feat, theta2))\n",
    "    elif outOf > 2:\n",
    "        predict = round(outOf * inner(feat, theta3))\n",
    "    predictions.write(u + '-' + i + '-' + str(outOf) + ',' + str(predict)+ '\\n')\n",
    "\n",
    "predictions.close ()"
   ]
  },
  {
   "cell_type": "code",
   "execution_count": null,
   "metadata": {
    "collapsed": true
   },
   "outputs": [],
   "source": []
  },
  {
   "cell_type": "code",
   "execution_count": null,
   "metadata": {
    "collapsed": true
   },
   "outputs": [],
   "source": []
  },
  {
   "cell_type": "code",
   "execution_count": null,
   "metadata": {
    "collapsed": true
   },
   "outputs": [],
   "source": []
  },
  {
   "cell_type": "code",
   "execution_count": null,
   "metadata": {
    "collapsed": true
   },
   "outputs": [],
   "source": []
  },
  {
   "cell_type": "code",
   "execution_count": null,
   "metadata": {
    "collapsed": true
   },
   "outputs": [],
   "source": []
  },
  {
   "cell_type": "code",
   "execution_count": null,
   "metadata": {
    "collapsed": true
   },
   "outputs": [],
   "source": []
  },
  {
   "cell_type": "code",
   "execution_count": null,
   "metadata": {
    "collapsed": true
   },
   "outputs": [],
   "source": []
  },
  {
   "cell_type": "code",
   "execution_count": null,
   "metadata": {
    "collapsed": true
   },
   "outputs": [],
   "source": []
  },
  {
   "cell_type": "code",
   "execution_count": null,
   "metadata": {
    "collapsed": true
   },
   "outputs": [],
   "source": []
  }
 ],
 "metadata": {
  "kernelspec": {
   "display_name": "Python 2",
   "language": "python",
   "name": "python2"
  },
  "language_info": {
   "codemirror_mode": {
    "name": "ipython",
    "version": 2
   },
   "file_extension": ".py",
   "mimetype": "text/x-python",
   "name": "python",
   "nbconvert_exporter": "python",
   "pygments_lexer": "ipython2",
   "version": "2.7.12"
  }
 },
 "nbformat": 4,
 "nbformat_minor": 2
}
