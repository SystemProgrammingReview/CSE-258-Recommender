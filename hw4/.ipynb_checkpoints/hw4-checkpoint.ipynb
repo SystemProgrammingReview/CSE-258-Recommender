{
 "cells": [
  {
   "cell_type": "code",
   "execution_count": 1,
   "metadata": {
    "collapsed": false
   },
   "outputs": [],
   "source": [
    "import numpy\n",
    "import urllib\n",
    "import scipy.optimize\n",
    "import random\n",
    "from collections import defaultdict\n",
    "import nltk\n",
    "import string\n",
    "from nltk.stem.porter import *\n",
    "from sklearn import linear_model\n",
    "\n",
    "def parseData(fname):\n",
    "  for l in urllib.urlopen(fname):\n",
    "    yield eval(l)"
   ]
  },
  {
   "cell_type": "code",
   "execution_count": 113,
   "metadata": {
    "collapsed": false
   },
   "outputs": [
    {
     "name": "stdout",
     "output_type": "stream",
     "text": [
      "Reading data...\n",
      "done\n"
     ]
    }
   ],
   "source": [
    "### Just the first 5000 reviews\n",
    "\n",
    "print \"Reading data...\"\n",
    "data = list(parseData(\"http://jmcauley.ucsd.edu/cse190/data/beer/beer_50000.json\"))[:5000]\n",
    "print \"done\""
   ]
  },
  {
   "cell_type": "code",
   "execution_count": 114,
   "metadata": {
    "collapsed": true
   },
   "outputs": [],
   "source": [
    "###  task 1"
   ]
  },
  {
   "cell_type": "code",
   "execution_count": 149,
   "metadata": {
    "collapsed": true
   },
   "outputs": [],
   "source": [
    "# bigrams count\n",
    "bigramCount = defaultdict(int)\n",
    "punctuation = set(string.punctuation)\n",
    "for d in data:\n",
    "    # Ignore capitalization and remove punctuation\n",
    "    r = ''.join([c for c in d['review/text'].lower() if not c in punctuation])\n",
    "    textList = r.split()\n",
    "    for i in range(len(textList)-1):\n",
    "        bigramCount[textList[i] + ' ' + textList[i+1]] += 1"
   ]
  },
  {
   "cell_type": "code",
   "execution_count": 151,
   "metadata": {
    "collapsed": false
   },
   "outputs": [
    {
     "name": "stdout",
     "output_type": "stream",
     "text": [
      "182246\n",
      "('with a', 4587)\n",
      "('in the', 2595)\n",
      "('of the', 2245)\n",
      "('is a', 2056)\n",
      "('on the', 2033)\n"
     ]
    }
   ],
   "source": [
    "# 5 most-frequently-occurring bigrams\n",
    "counts = sorted(bigramCount.items(), key=lambda x:x[1], reverse=True)\n",
    "print len(counts)\n",
    "for i in range(5):\n",
    "    print counts[i]"
   ]
  },
  {
   "cell_type": "code",
   "execution_count": 152,
   "metadata": {
    "collapsed": true
   },
   "outputs": [],
   "source": [
    "###  task 2"
   ]
  },
  {
   "cell_type": "code",
   "execution_count": 153,
   "metadata": {
    "collapsed": true
   },
   "outputs": [],
   "source": [
    "words = [x[0] for x in counts[:1000]]\n",
    "wordId = dict(zip(words, range(len(words))))\n",
    "wordSet = set(words)"
   ]
  },
  {
   "cell_type": "code",
   "execution_count": 154,
   "metadata": {
    "collapsed": true
   },
   "outputs": [],
   "source": [
    "def feature (datum):\n",
    "    feat = [0]*len(words)\n",
    "    r = ''.join([c for c in datum['review/text'].lower() if not c in punctuation])\n",
    "    textList = r.split()\n",
    "    for i in range(len(textList)-1):\n",
    "        w = textList[i] + ' ' + textList[i+1]\n",
    "        if w in words: \n",
    "            feat[wordId[w]] += 1\n",
    "    feat.append(1) #offset\n",
    "    return feat"
   ]
  },
  {
   "cell_type": "code",
   "execution_count": 155,
   "metadata": {
    "collapsed": true
   },
   "outputs": [],
   "source": [
    "X = [feature(d) for d in data]\n",
    "y = [d['review/overall'] for d in data]\n",
    "\n",
    "# With regularization\n",
    "clf = linear_model.Ridge(1.0, fit_intercept=False)\n",
    "clf.fit(X, y)\n",
    "theta = clf.coef_\n",
    "predictions = clf.predict(X)"
   ]
  },
  {
   "cell_type": "code",
   "execution_count": 156,
   "metadata": {
    "collapsed": false
   },
   "outputs": [
    {
     "name": "stdout",
     "output_type": "stream",
     "text": [
      "0.343312798776\n"
     ]
    }
   ],
   "source": [
    "# MSE\n",
    "MSE = 0\n",
    "for i in range(len(predictions)):\n",
    "    MSE += (y[i] - predictions[i])**2\n",
    "MSE /= len(y)\n",
    "print MSE"
   ]
  },
  {
   "cell_type": "code",
   "execution_count": 132,
   "metadata": {
    "collapsed": true
   },
   "outputs": [],
   "source": [
    "### task 3"
   ]
  },
  {
   "cell_type": "code",
   "execution_count": 133,
   "metadata": {
    "collapsed": false
   },
   "outputs": [],
   "source": [
    "# mix : unigram + bigram\n",
    "mixCount = defaultdict(int)\n",
    "punctuation = set(string.punctuation)\n",
    "for d in data:\n",
    "    if d['review/text'] == '':\n",
    "        continue\n",
    "    r = ''.join([c for c in d['review/text'].lower() if not c in punctuation])\n",
    "    textList = r.split()\n",
    "    for i in range(len(textList)-1):\n",
    "        mixCount[textList[i]] += 1\n",
    "        mixCount[textList[i] + \" \" + textList[i+1]] += 1\n",
    "    mixCount[textList[len(textList)-1]] += 1"
   ]
  },
  {
   "cell_type": "code",
   "execution_count": 134,
   "metadata": {
    "collapsed": false
   },
   "outputs": [
    {
     "name": "stdout",
     "output_type": "stream",
     "text": [
      "('a', 30695)\n",
      "('the', 27569)\n",
      "('and', 19512)\n",
      "('of', 15935)\n",
      "('is', 12623)\n"
     ]
    }
   ],
   "source": [
    "counts = sorted(mixCount.items(), key=lambda x:x[1], reverse=True)\n",
    "for i in range(5):\n",
    "    print counts[i]"
   ]
  },
  {
   "cell_type": "code",
   "execution_count": 135,
   "metadata": {
    "collapsed": true
   },
   "outputs": [],
   "source": [
    "words = [x[0] for x in counts[:1000]]\n",
    "wordId = dict(zip(words, range(len(words))))\n",
    "wordSet = set(words)"
   ]
  },
  {
   "cell_type": "code",
   "execution_count": 136,
   "metadata": {
    "collapsed": true
   },
   "outputs": [],
   "source": [
    "def feature (datum):\n",
    "    feat = [0]*len(words)\n",
    "    if datum['review/text'] != '':\n",
    "        r = ''.join([c for c in datum['review/text'].lower() if not c in punctuation])\n",
    "        textList = r.split()\n",
    "        for i in range(len(textList)-1):\n",
    "            wB = textList[i] + \" \" + textList[i+1]\n",
    "            wU = textList[i]\n",
    "            if wB in words: \n",
    "                feat[wordId[wB]] += 1\n",
    "            if wU in words: \n",
    "                feat[wordId[wU]] += 1\n",
    "        if textList[len(textList)-1] in words:\n",
    "            feat[wordId[textList[len(textList)-1]]] += 1\n",
    "    feat.append(1) #offset\n",
    "    return feat"
   ]
  },
  {
   "cell_type": "code",
   "execution_count": 137,
   "metadata": {
    "collapsed": true
   },
   "outputs": [],
   "source": [
    "X = [feature(d) for d in data]\n",
    "y = [d['review/overall'] for d in data]\n",
    "\n",
    "# With regularization\n",
    "clf = linear_model.Ridge(1.0, fit_intercept=False)\n",
    "clf.fit(X, y)\n",
    "theta = clf.coef_\n",
    "predictions = clf.predict(X)"
   ]
  },
  {
   "cell_type": "code",
   "execution_count": 138,
   "metadata": {
    "collapsed": false
   },
   "outputs": [
    {
     "name": "stdout",
     "output_type": "stream",
     "text": [
      "0.289393697641\n"
     ]
    }
   ],
   "source": [
    "# MSE\n",
    "MSE = 0\n",
    "for i in range(len(predictions)):\n",
    "    MSE += (y[i] - predictions[i])**2\n",
    "MSE /= len(y)\n",
    "print MSE"
   ]
  },
  {
   "cell_type": "code",
   "execution_count": 148,
   "metadata": {
    "collapsed": false
   },
   "outputs": [
    {
     "name": "stdout",
     "output_type": "stream",
     "text": [
      "negatives:  ['sort of', 'water', 'corn', 'the background', 'straw']\n",
      "positives:  ['sort', 'a bad', 'of these', 'not bad', 'the best']\n"
     ]
    }
   ],
   "source": [
    "### task 4\n",
    "mostWords = zip(theta[:1000], range(len(theta[:1000])))\n",
    "mostWords.sort()\n",
    "negatives = [words[mostWords[i][1]] for i in range(5)]\n",
    "print \"negatives: \", negatives\n",
    "mostWords.reverse()\n",
    "positives = [words[mostWords[i][1]] for i in range(5)]\n",
    "print \"positives: \", positives"
   ]
  },
  {
   "cell_type": "code",
   "execution_count": 157,
   "metadata": {
    "collapsed": true
   },
   "outputs": [],
   "source": [
    "### task 5\n",
    "# idf tf-idf\n",
    "# ‘foam’, ‘smell’, ‘banana’, ‘lactic’, and ‘tart’"
   ]
  },
  {
   "cell_type": "code",
   "execution_count": 160,
   "metadata": {
    "collapsed": true
   },
   "outputs": [],
   "source": [
    "wordList = ['foam', 'smell', 'banana', 'lactic', 'tart']"
   ]
  },
  {
   "cell_type": "code",
   "execution_count": null,
   "metadata": {
    "collapsed": true
   },
   "outputs": [],
   "source": [
    "# tf\n",
    "def tf(term):\n",
    "    freq = 0\n",
    "    r = ''.join([c for c in data[0]['review/text'].lower() if not c in punctuation])\n",
    "    for w in r.split():\n",
    "        if w == term:\n",
    "            freq += 1\n",
    "    return freq        "
   ]
  },
  {
   "cell_type": "code",
   "execution_count": null,
   "metadata": {
    "collapsed": true
   },
   "outputs": [],
   "source": []
  },
  {
   "cell_type": "code",
   "execution_count": null,
   "metadata": {
    "collapsed": true
   },
   "outputs": [],
   "source": []
  },
  {
   "cell_type": "code",
   "execution_count": null,
   "metadata": {
    "collapsed": true
   },
   "outputs": [],
   "source": []
  },
  {
   "cell_type": "code",
   "execution_count": null,
   "metadata": {
    "collapsed": true
   },
   "outputs": [],
   "source": []
  },
  {
   "cell_type": "code",
   "execution_count": null,
   "metadata": {
    "collapsed": true
   },
   "outputs": [],
   "source": []
  },
  {
   "cell_type": "code",
   "execution_count": null,
   "metadata": {
    "collapsed": true
   },
   "outputs": [],
   "source": []
  }
 ],
 "metadata": {
  "kernelspec": {
   "display_name": "Python 2",
   "language": "python",
   "name": "python2"
  },
  "language_info": {
   "codemirror_mode": {
    "name": "ipython",
    "version": 2
   },
   "file_extension": ".py",
   "mimetype": "text/x-python",
   "name": "python",
   "nbconvert_exporter": "python",
   "pygments_lexer": "ipython2",
   "version": "2.7.12"
  }
 },
 "nbformat": 4,
 "nbformat_minor": 2
}
