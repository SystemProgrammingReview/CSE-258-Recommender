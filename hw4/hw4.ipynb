{
 "cells": [
  {
   "cell_type": "code",
   "execution_count": 1,
   "metadata": {
    "collapsed": false
   },
   "outputs": [],
   "source": [
    "import numpy\n",
    "import urllib\n",
    "import scipy.optimize\n",
    "import random\n",
    "from collections import defaultdict\n",
    "import nltk\n",
    "import string\n",
    "from nltk.stem.porter import *\n",
    "from sklearn import linear_model\n",
    "\n",
    "def parseData(fname):\n",
    "  for l in urllib.urlopen(fname):\n",
    "    yield eval(l)"
   ]
  },
  {
   "cell_type": "code",
   "execution_count": 113,
   "metadata": {
    "collapsed": false
   },
   "outputs": [
    {
     "name": "stdout",
     "output_type": "stream",
     "text": [
      "Reading data...\n",
      "done\n"
     ]
    }
   ],
   "source": [
    "### Just the first 5000 reviews\n",
    "\n",
    "print \"Reading data...\"\n",
    "data = list(parseData(\"http://jmcauley.ucsd.edu/cse190/data/beer/beer_50000.json\"))[:5000]\n",
    "print \"done\""
   ]
  },
  {
   "cell_type": "code",
   "execution_count": 114,
   "metadata": {
    "collapsed": true
   },
   "outputs": [],
   "source": [
    "###  task 1"
   ]
  },
  {
   "cell_type": "code",
   "execution_count": 262,
   "metadata": {
    "collapsed": true
   },
   "outputs": [],
   "source": [
    "# bigrams count\n",
    "bigramCount = defaultdict(int)\n",
    "punctuation = set(string.punctuation)\n",
    "for d in data:\n",
    "    r = ''.join([c for c in d['review/text'].lower() if not c in punctuation])\n",
    "    textList = r.split()\n",
    "    for i in range(len(textList)-1):\n",
    "        bigramCount[textList[i] + ' ' + textList[i+1]] += 1"
   ]
  },
  {
   "cell_type": "code",
   "execution_count": 263,
   "metadata": {
    "collapsed": false
   },
   "outputs": [
    {
     "name": "stdout",
     "output_type": "stream",
     "text": [
      "182246\n",
      "(4587, 'with a')\n",
      "(2595, 'in the')\n",
      "(2245, 'of the')\n",
      "(2056, 'is a')\n",
      "(2033, 'on the')\n"
     ]
    }
   ],
   "source": [
    "# 5 most-frequently-occurring bigrams\n",
    "counts = [(bigramCount[w], w) for w in bigramCount]\n",
    "counts.sort()\n",
    "counts.reverse()\n",
    "print len(counts)\n",
    "for i in range(5):\n",
    "    print counts[i]"
   ]
  },
  {
   "cell_type": "code",
   "execution_count": 152,
   "metadata": {
    "collapsed": true
   },
   "outputs": [],
   "source": [
    "###  task 2"
   ]
  },
  {
   "cell_type": "code",
   "execution_count": 264,
   "metadata": {
    "collapsed": true
   },
   "outputs": [],
   "source": [
    "words = [x[1] for x in counts[:1000]]\n",
    "wordId = dict(zip(words, range(len(words))))\n",
    "wordSet = set(words)"
   ]
  },
  {
   "cell_type": "code",
   "execution_count": 265,
   "metadata": {
    "collapsed": true
   },
   "outputs": [],
   "source": [
    "def feature (datum):\n",
    "    feat = [0]*len(words)\n",
    "    r = ''.join([c for c in datum['review/text'].lower() if not c in punctuation])\n",
    "    textList = r.split()\n",
    "    for i in range(len(textList)-1):\n",
    "        w = textList[i] + ' ' + textList[i+1]\n",
    "        if w in words: \n",
    "            feat[wordId[w]] += 1\n",
    "    feat.append(1) #offset\n",
    "    return feat"
   ]
  },
  {
   "cell_type": "code",
   "execution_count": 266,
   "metadata": {
    "collapsed": true
   },
   "outputs": [],
   "source": [
    "X = [feature(d) for d in data]\n",
    "y = [d['review/overall'] for d in data]\n",
    "\n",
    "# With regularization\n",
    "clf = linear_model.Ridge(1.0, fit_intercept=False)\n",
    "clf.fit(X, y)\n",
    "theta = clf.coef_\n",
    "predictions = clf.predict(X)"
   ]
  },
  {
   "cell_type": "code",
   "execution_count": 267,
   "metadata": {
    "collapsed": false
   },
   "outputs": [
    {
     "name": "stdout",
     "output_type": "stream",
     "text": [
      "0.343153014061\n"
     ]
    }
   ],
   "source": [
    "# MSE\n",
    "MSE = 0\n",
    "for i in range(len(predictions)):\n",
    "    MSE += (y[i] - predictions[i])**2\n",
    "MSE /= len(y)\n",
    "print MSE"
   ]
  },
  {
   "cell_type": "code",
   "execution_count": 132,
   "metadata": {
    "collapsed": true
   },
   "outputs": [],
   "source": [
    "### task 3"
   ]
  },
  {
   "cell_type": "code",
   "execution_count": 268,
   "metadata": {
    "collapsed": false
   },
   "outputs": [],
   "source": [
    "# mix : unigram + bigram\n",
    "mixCount = defaultdict(int)\n",
    "punctuation = set(string.punctuation)\n",
    "for d in data:\n",
    "    if d['review/text'] == '':\n",
    "        continue\n",
    "    r = ''.join([c for c in d['review/text'].lower() if not c in punctuation])\n",
    "    textList = r.split()\n",
    "    for i in range(len(textList)-1):\n",
    "        mixCount[textList[i]] += 1\n",
    "        mixCount[textList[i] + \" \" + textList[i+1]] += 1\n",
    "    mixCount[textList[len(textList)-1]] += 1"
   ]
  },
  {
   "cell_type": "code",
   "execution_count": 269,
   "metadata": {
    "collapsed": false
   },
   "outputs": [],
   "source": [
    "counts = [(mixCount[w], w) for w in mixCount]\n",
    "counts.sort()\n",
    "counts.reverse()"
   ]
  },
  {
   "cell_type": "code",
   "execution_count": 270,
   "metadata": {
    "collapsed": true
   },
   "outputs": [],
   "source": [
    "words = [x[1] for x in counts[:1000]]\n",
    "wordId = dict(zip(words, range(len(words))))\n",
    "wordSet = set(words)"
   ]
  },
  {
   "cell_type": "code",
   "execution_count": 271,
   "metadata": {
    "collapsed": true
   },
   "outputs": [],
   "source": [
    "def feature (datum):\n",
    "    feat = [0]*len(words)\n",
    "    if datum['review/text'] != '':\n",
    "        r = ''.join([c for c in datum['review/text'].lower() if not c in punctuation])\n",
    "        textList = r.split()\n",
    "        for i in range(len(textList)-1):\n",
    "            wB = textList[i] + \" \" + textList[i+1]\n",
    "            wU = textList[i]\n",
    "            if wB in words: \n",
    "                feat[wordId[wB]] += 1\n",
    "            if wU in words: \n",
    "                feat[wordId[wU]] += 1\n",
    "        if textList[len(textList)-1] in words:\n",
    "            feat[wordId[textList[len(textList)-1]]] += 1\n",
    "    feat.append(1) #offset\n",
    "    return feat"
   ]
  },
  {
   "cell_type": "code",
   "execution_count": 272,
   "metadata": {
    "collapsed": true
   },
   "outputs": [],
   "source": [
    "X = [feature(d) for d in data]\n",
    "y = [d['review/overall'] for d in data]\n",
    "\n",
    "# With regularization\n",
    "clf = linear_model.Ridge(1.0, fit_intercept=False)\n",
    "clf.fit(X, y)\n",
    "theta = clf.coef_\n",
    "predictions = clf.predict(X)"
   ]
  },
  {
   "cell_type": "code",
   "execution_count": 273,
   "metadata": {
    "collapsed": false
   },
   "outputs": [
    {
     "name": "stdout",
     "output_type": "stream",
     "text": [
      "0.289047333034\n"
     ]
    }
   ],
   "source": [
    "# MSE\n",
    "MSE = 0\n",
    "for i in range(len(predictions)):\n",
    "    MSE += (y[i] - predictions[i])**2\n",
    "MSE /= len(y)\n",
    "print MSE"
   ]
  },
  {
   "cell_type": "code",
   "execution_count": 275,
   "metadata": {
    "collapsed": false,
    "scrolled": true
   },
   "outputs": [
    {
     "name": "stdout",
     "output_type": "stream",
     "text": [
      "negatives:  ['sort of', 'water', 'corn', 'the background', 'straw']\n",
      "positives:  ['sort', 'a bad', 'of these', 'not bad', 'the best']\n"
     ]
    }
   ],
   "source": [
    "### task 4\n",
    "mostWords = zip(theta[:1000], range(len(theta[:1000])))\n",
    "mostWords.sort()\n",
    "negatives = [words[mostWords[i][1]] for i in range(5)]\n",
    "print \"negatives: \", negatives\n",
    "mostWords.reverse()\n",
    "positives = [words[mostWords[i][1]] for i in range(5)]\n",
    "print \"positives: \", positives"
   ]
  },
  {
   "cell_type": "code",
   "execution_count": 276,
   "metadata": {
    "collapsed": true
   },
   "outputs": [],
   "source": [
    "### task 5\n",
    "wordList = ['foam', 'smell', 'banana', 'lactic', 'tart']"
   ]
  },
  {
   "cell_type": "code",
   "execution_count": 277,
   "metadata": {
    "collapsed": true
   },
   "outputs": [],
   "source": [
    "# tf\n",
    "def tf(term):\n",
    "    freq = 0\n",
    "    r = ''.join([c for c in data[0]['review/text'].lower() if not c in punctuation])\n",
    "    for w in r.split():\n",
    "        if w == term:\n",
    "            freq += 1\n",
    "    return freq    "
   ]
  },
  {
   "cell_type": "code",
   "execution_count": 278,
   "metadata": {
    "collapsed": true
   },
   "outputs": [],
   "source": [
    "# idf\n",
    "def idf(term):\n",
    "    freq = 0\n",
    "    for d in data:\n",
    "        r = ''.join([c for c in d['review/text'].lower() if not c in punctuation])\n",
    "        if term in r.split():\n",
    "            freq += 1\n",
    "    return -numpy.log10(freq * 1.0 / len(data))"
   ]
  },
  {
   "cell_type": "code",
   "execution_count": 279,
   "metadata": {
    "collapsed": false,
    "scrolled": true
   },
   "outputs": [
    {
     "name": "stdout",
     "output_type": "stream",
     "text": [
      "foam  tf:  2  idf:  1.13786862069  tfidf:  2.27573724137\n",
      "smell  tf:  1  idf:  0.537901618865  tfidf:  0.537901618865\n",
      "banana  tf:  2  idf:  1.67778070527  tfidf:  3.35556141053\n",
      "lactic  tf:  2  idf:  2.92081875395  tfidf:  5.8416375079\n",
      "tart  tf:  1  idf:  1.80687540165  tfidf:  1.80687540165\n"
     ]
    }
   ],
   "source": [
    "for term in wordList:\n",
    "    print term, \" tf: \", tf(term), \" idf: \", idf(term), \" tfidf: \", tf(term)*idf(term)"
   ]
  },
  {
   "cell_type": "code",
   "execution_count": 280,
   "metadata": {
    "collapsed": true
   },
   "outputs": [],
   "source": [
    "### task 6\n",
    "unigramCount = defaultdict(int)\n",
    "punctuation = set(string.punctuation)\n",
    "for d in data:\n",
    "    r = ''.join([c for c in d['review/text'].lower() if not c in punctuation])\n",
    "    for w in r.split():\n",
    "        unigramCount[w] += 1\n",
    "\n",
    "counts = [(unigramCount[w], w) for w in unigramCount]\n",
    "counts.sort()\n",
    "counts.reverse()\n",
    "\n",
    "words = [x[1] for x in counts[:1000]]"
   ]
  },
  {
   "cell_type": "code",
   "execution_count": 281,
   "metadata": {
    "collapsed": true
   },
   "outputs": [],
   "source": [
    "# tf with index\n",
    "def tf(term, index):\n",
    "    freq = 0\n",
    "    r = ''.join([c for c in data[index]['review/text'].lower() if not c in punctuation])\n",
    "    for w in r.split():\n",
    "        if w == term:\n",
    "            freq += 1\n",
    "    return freq "
   ]
  },
  {
   "cell_type": "code",
   "execution_count": 282,
   "metadata": {
    "collapsed": true
   },
   "outputs": [],
   "source": [
    "# idf\n",
    "def idf(term):\n",
    "    freq = 0\n",
    "    for d in data:\n",
    "        r = ''.join([c for c in d['review/text'].lower() if not c in punctuation])\n",
    "        if term in r.split():\n",
    "            freq += 1\n",
    "    return -numpy.log10(freq * 1.0 / len(data))"
   ]
  },
  {
   "cell_type": "code",
   "execution_count": 283,
   "metadata": {
    "collapsed": false
   },
   "outputs": [],
   "source": [
    "word_idf = defaultdict(float)\n",
    "count = 0\n",
    "for w in words:\n",
    "    count += 1\n",
    "    word_idf[w] = idf(w)"
   ]
  },
  {
   "cell_type": "code",
   "execution_count": 294,
   "metadata": {
    "collapsed": false
   },
   "outputs": [
    {
     "name": "stdout",
     "output_type": "stream",
     "text": [
      "0.106130241679\n"
     ]
    }
   ],
   "source": [
    "tfdif_1 = [tf(w, 0) * word_idf[w] for w in words]\n",
    "tfdif_2 = [tf(w, 1) * word_idf[w] for w in words]\n",
    "\n",
    "n = len(tfdif_1)\n",
    "num = sum(tfdif_1[i] * tfdif_2[i] for i in range(n))\n",
    "den = numpy.sqrt(sum(tfdif_1[i]**2 for i in range(n))) \\\n",
    "      * numpy.sqrt(sum(tfdif_2[i]**2 for i in range(n)))\n",
    "cosSim = num / den\n",
    "print cosSim"
   ]
  },
  {
   "cell_type": "code",
   "execution_count": 288,
   "metadata": {
    "collapsed": false
   },
   "outputs": [
    {
     "name": "stderr",
     "output_type": "stream",
     "text": [
      "/System/Library/Frameworks/Python.framework/Versions/2.7/Extras/lib/python/scipy/spatial/distance.py:287: RuntimeWarning: invalid value encountered in double_scalars\n",
      "  dist = 1.0 - np.dot(u, v) / (norm(u) * norm(v))\n"
     ]
    }
   ],
   "source": [
    "### task 7\n",
    "import sys\n",
    "max_index = 2\n",
    "max_cos = -sys.maxint\n",
    "\n",
    "tfdif_1 = [tf(w, 0) * word_idf[w] for w in words]\n",
    "for i in range(1, len(data)):\n",
    "    tfdif_2 = [tf(w, i) * word_idf[w] for w in words]\n",
    "    n = len(tfdif_1)\n",
    "    num = sum(tfdif_1[i] * tfdif_2[i] for i in range(n))\n",
    "    den = numpy.sqrt(sum(tfdif_1[i]**2 for i in range(n))) \\\n",
    "          * numpy.sqrt(sum(tfdif_2[i]**2 for i in range(n)))\n",
    "    cosSim = num / den\n",
    "    if cosSim > max_cos:\n",
    "        max_cos = cosSim\n",
    "        max_index = i"
   ]
  },
  {
   "cell_type": "code",
   "execution_count": 292,
   "metadata": {
    "collapsed": false
   },
   "outputs": [
    {
     "name": "stdout",
     "output_type": "stream",
     "text": [
      "beerId:  52211\n",
      "profileName:  Heatwave33\n",
      "review text:  Poured from a 22oz bottle to a Dogfish Head Snifter.\t\tColor: Slight hazy orange with an off white head.\t\tSmell: Cinnamon, banana, pumpkin and nutmeg.\t\tTaste: Alcohol, pumpkin, nutmeg, allspice and a hint of banana.\t\tMouthfeel: Medium carbonation, smooth, medium dryness on the palate.\t\tOverall: The smell is GREAT! The banana was a huge surprise for me. The taste had too much alcohol presence. Seemed to overpower the other flavors. Cheers!\n"
     ]
    }
   ],
   "source": [
    "print \"beerId: \", data[max_index]['beer/beerId']\n",
    "print \"profileName: \", data[max_index]['user/profileName']\n",
    "print \"review text: \", data[max_index]['review/text']"
   ]
  },
  {
   "cell_type": "code",
   "execution_count": 295,
   "metadata": {
    "collapsed": false
   },
   "outputs": [],
   "source": [
    "# task 8\n",
    "# tf in datum\n",
    "def tf(term, datum):\n",
    "    freq = 0\n",
    "    r = ''.join([c for c in datum['review/text'].lower() if not c in punctuation])\n",
    "    for w in r.split():\n",
    "        if w == term:\n",
    "            freq += 1\n",
    "    return freq"
   ]
  },
  {
   "cell_type": "code",
   "execution_count": 296,
   "metadata": {
    "collapsed": true
   },
   "outputs": [],
   "source": [
    "def feature(datum):\n",
    "    feat = [tf(w, datum) * word_idf[w] for w in words]\n",
    "    feat.append(1) #offset\n",
    "    return feat"
   ]
  },
  {
   "cell_type": "code",
   "execution_count": 297,
   "metadata": {
    "collapsed": true
   },
   "outputs": [],
   "source": [
    "X = [feature(d) for d in data]\n",
    "y = [d['review/overall'] for d in data]\n",
    "\n",
    "# With regularization\n",
    "clf = linear_model.Ridge(1.0, fit_intercept=False)\n",
    "clf.fit(X, y)\n",
    "theta = clf.coef_\n",
    "predictions = clf.predict(X)"
   ]
  },
  {
   "cell_type": "code",
   "execution_count": 298,
   "metadata": {
    "collapsed": false
   },
   "outputs": [
    {
     "name": "stdout",
     "output_type": "stream",
     "text": [
      "0.278759560078\n"
     ]
    }
   ],
   "source": [
    "# MSE\n",
    "MSE = 0\n",
    "for i in range(len(predictions)):\n",
    "    MSE += (y[i] - predictions[i])**2\n",
    "MSE /= len(y)\n",
    "print MSE"
   ]
  },
  {
   "cell_type": "code",
   "execution_count": null,
   "metadata": {
    "collapsed": true
   },
   "outputs": [],
   "source": []
  }
 ],
 "metadata": {
  "kernelspec": {
   "display_name": "Python 2",
   "language": "python",
   "name": "python2"
  },
  "language_info": {
   "codemirror_mode": {
    "name": "ipython",
    "version": 2
   },
   "file_extension": ".py",
   "mimetype": "text/x-python",
   "name": "python",
   "nbconvert_exporter": "python",
   "pygments_lexer": "ipython2",
   "version": "2.7.12"
  }
 },
 "nbformat": 4,
 "nbformat_minor": 2
}
