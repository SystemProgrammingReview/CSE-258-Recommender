{
 "cells": [
  {
   "cell_type": "code",
   "execution_count": 42,
   "metadata": {
    "collapsed": false
   },
   "outputs": [
    {
     "name": "stdout",
     "output_type": "stream",
     "text": [
      "Reading data...\n",
      "done\n",
      "lambda = 0;\ttrain=0.732843137255; validate=0.720759338641; test=0.778322106552\n",
      "lambda = 0.01;\ttrain=0.732230392157; validate=0.721984078383; test=0.780159216167\n",
      "lambda = 1.0;\ttrain=0.726715686275; validate=0.704225352113; test=0.766074709124\n",
      "lambda = 100.0;\ttrain=0.658700980392; validate=0.630128597673; test=0.696876913656\n"
     ]
    }
   ],
   "source": [
    "import numpy\n",
    "import urllib\n",
    "import scipy.optimize\n",
    "import random\n",
    "from math import exp\n",
    "from math import log\n",
    "\n",
    "random.seed(0)\n",
    "\n",
    "def parseData(fname):\n",
    "  for l in urllib.urlopen(fname):\n",
    "    yield eval(l)\n",
    "\n",
    "print \"Reading data...\"\n",
    "dataFile = open(\"winequality-white.csv\")\n",
    "header = dataFile.readline()\n",
    "fields = [\"constant\"] + header.strip().replace('\"','').split(';')\n",
    "featureNames = fields[:-1]\n",
    "labelName = fields[-1]\n",
    "lines = [[1.0] + [float(x) for x in l.split(';')] for l in dataFile]\n",
    "\n",
    "# Randomly re-shuffle\n",
    "# numpy.random.shuffle(lines)\n",
    "\n",
    "X = [l[:-1] for l in lines]\n",
    "y = [l[-1] > 5 for l in lines]\n",
    "print \"done\"\n",
    "\n",
    "def inner(x,y):\n",
    "  return sum([x[i]*y[i] for i in range(len(x))])\n",
    "\n",
    "def sigmoid(x):\n",
    "  return 1.0 / (1 + exp(-x))\n",
    "\n",
    "# NEGATIVE Log-likelihood\n",
    "def f(theta, X, y, lam):\n",
    "  loglikelihood = 0\n",
    "  for i in range(len(X)):\n",
    "    logit = inner(X[i], theta)\n",
    "    loglikelihood -= log(1 + exp(-logit))\n",
    "    if not y[i]:\n",
    "      loglikelihood -= logit\n",
    "  for k in range(len(theta)):\n",
    "    loglikelihood -= lam * theta[k]*theta[k]\n",
    "  # for debugging\n",
    "  # print \"ll =\", loglikelihood\n",
    "  return -loglikelihood\n",
    "\n",
    "# NEGATIVE Derivative of log-likelihood\n",
    "def fprime(theta, X, y, lam):\n",
    "  dl = [0]*len(theta)\n",
    "  for i in range(len(X)):\n",
    "    logit = inner(X[i], theta)\n",
    "    for k in range(len(theta)):\n",
    "      dl[k] += X[i][k] * (1 - sigmoid(logit))\n",
    "      if not y[i]:\n",
    "        dl[k] -= X[i][k]\n",
    "  for k in range(len(theta)):\n",
    "    dl[k] -= lam*2*theta[k]\n",
    "  return numpy.array([-x for x in dl])\n",
    "\n",
    "X_train = X[:int(len(X)/3)]\n",
    "y_train = y[:int(len(y)/3)]\n",
    "X_validate = X[int(len(X)/3):int(2*len(X)/3)]\n",
    "y_validate = y[int(len(y)/3):int(2*len(y)/3)]\n",
    "X_test = X[int(2*len(X)/3):]\n",
    "y_test = y[int(2*len(X)/3):]\n",
    "\n",
    "# Train                          \n",
    "def train(lam):\n",
    "  theta,_,_ = scipy.optimize.fmin_l_bfgs_b(f, [0]*len(X[0]), fprime, pgtol = 10, args = (X_train, y_train, lam))\n",
    "  return theta\n",
    "\n",
    "# Predict                                       \n",
    "def performance(theta):\n",
    "  scores_train = [inner(theta,x) for x in X_train]\n",
    "  scores_validate = [inner(theta,x) for x in X_validate]\n",
    "  scores_test = [inner(theta,x) for x in X_test]\n",
    "\n",
    "  predictions_train = [s > 0 for s in scores_train]\n",
    "  predictions_validate = [s > 0 for s in scores_validate]\n",
    "  predictions_test = [s > 0 for s in scores_test]\n",
    "\n",
    "  correct_train = [(a==b) for (a,b) in zip(predictions_train,y_train)]\n",
    "  correct_validate = [(a==b) for (a,b) in zip(predictions_validate,y_validate)]\n",
    "  correct_test = [(a==b) for (a,b) in zip(predictions_test,y_test)]\n",
    "  \n",
    "  acc_train = sum(correct_train) * 1.0 / len(correct_train)\n",
    "  acc_validate = sum(correct_validate) * 1.0 / len(correct_validate)\n",
    "  acc_test = sum(correct_test) * 1.0 / len(correct_test)\n",
    "  return acc_train, acc_validate, acc_test\n",
    "\n",
    "# Validation pipeline\n",
    "for lam in [0, 0.01, 1.0, 100.0]:\n",
    "  theta = train(lam)\n",
    "  acc_train, acc_validate, acc_test = performance(theta)\n",
    "  print(\"lambda = \" + str(lam) + \";\\ttrain=\" + str(acc_train) + \"; validate=\" + str(acc_validate) + \"; test=\" + str(acc_test))"
   ]
  },
  {
   "cell_type": "code",
   "execution_count": 43,
   "metadata": {
    "collapsed": false
   },
   "outputs": [
    {
     "name": "stdout",
     "output_type": "stream",
     "text": [
      "TP = 1129\n",
      "TN = 145\n",
      "FP = 321\n",
      "FN = 38\n",
      "BER = 0.360702\n"
     ]
    }
   ],
   "source": [
    "def performance_accuracy(theta):\n",
    "    scores_test = [inner(theta,x) for x in X_test]\n",
    "    predictions_test = [s > 0 for s in scores_test]\n",
    "    \n",
    "    # true positives, true negatives, false positives, false negatives \n",
    "    TP = sum([(a==b and b==1) for (a,b) in zip(predictions_test,y_test)])\n",
    "    TN = sum([(a==b and b==0) for (a,b) in zip(predictions_test,y_test)])\n",
    "    FP = sum([(a!=b and a==1) for (a,b) in zip(predictions_test,y_test)])\n",
    "    FN = sum([(a!=b and a==0) for (a,b) in zip(predictions_test,y_test)])\n",
    "    # Balanced Error Rate of the classifier\n",
    "    # True positive rate (TPR), True negative rate (TNR)\n",
    "    TPR = TP / (TP+FN+.0)\n",
    "    TNR = TN / (TN+FP+.0)\n",
    "    \n",
    "    print \"TP = %d\\nTN = %d\\nFP = %d\\nFN = %d\" %(TP, TN, FP, FN)\n",
    "    print \"BER = %f\" %(1 - (TPR+TNR)/2)\n",
    "    \n",
    "# task 2\n",
    "theta = train(0.01)\n",
    "performance_accuracy(theta)"
   ]
  },
  {
   "cell_type": "code",
   "execution_count": 44,
   "metadata": {
    "collapsed": false
   },
   "outputs": [
    {
     "name": "stdout",
     "output_type": "stream",
     "text": [
      "budget = 10.000000\tprecision = 1.000000\trecall = 0.008569\n",
      "budget = 500.000000\tprecision = 0.956000\trecall = 0.409597\n",
      "budget = 1000.000000\tprecision = 0.864000\trecall = 0.740360\n"
     ]
    }
   ],
   "source": [
    "def rank_prediction(theta):\n",
    "    scores_test = [inner(theta,x) for x in X_test]\n",
    "    rank = zip(scores_test, y_test)\n",
    "    rank.sort(key = lambda x:x[0], reverse = True)\n",
    "    \n",
    "    total_relavant = sum(y_test)\n",
    "      \n",
    "    for budget in [10, 500, 1000]: \n",
    "        relavant = 0\n",
    "        for i in range(budget):\n",
    "            relavant += rank[i][1]\n",
    "            precision = float(relavant)/budget\n",
    "            recall = float(relavant)/total_relavant \n",
    "        print \"budget = %f\\tprecision = %f\\trecall = %f\" %(budget, precision, recall)\n",
    "\n",
    "# task 3\n",
    "theta = train(0.01)\n",
    "rank_prediction(theta)"
   ]
  },
  {
   "cell_type": "code",
   "execution_count": 45,
   "metadata": {
    "collapsed": false
   },
   "outputs": [
    {
     "data": {
      "image/png": "[encoded data removed]",
      "text/plain": [
       "<matplotlib.figure.Figure at 0x110baa510>"
      ]
     },
     "metadata": {},
     "output_type": "display_data"
    }
   ],
   "source": [
    "# task 4\n",
    "import matplotlib.pyplot as plt\n",
    "theta = train (0.01)\n",
    "scores_test = [inner(theta,x) for x in X_test]\n",
    "rank = zip(scores_test, y_test)\n",
    "rank.sort(key = lambda x:x[0], reverse = True)\n",
    "precision = []\n",
    "recall = []\n",
    "\n",
    "total_relavant = sum(y_test)\n",
    "for budget in range(1, len(y_test)+1):\n",
    "    relavant = 0\n",
    "    for i in range(budget):\n",
    "        relavant += rank[i][1]\n",
    "    precision.append(float(relavant)/budget)\n",
    "    recall.append(float(relavant)/total_relavant)\n",
    "\n",
    "plt.plot(precision, recall)\n",
    "plt.show()"
   ]
  },
  {
   "cell_type": "code",
   "execution_count": 51,
   "metadata": {
    "collapsed": false
   },
   "outputs": [
    {
     "name": "stdout",
     "output_type": "stream",
     "text": [
      "Reconstruction error = 3675818.617\n"
     ]
    }
   ],
   "source": [
    "# task 5\n",
    "X_train = numpy.matrix(X_train)\n",
    "X_mean = numpy.mean(X_train, axis=0)\n",
    "re = numpy.sum(numpy.square(X_train-X_mean))\n",
    "print \"Reconstruction error = %.3f\" %re"
   ]
  },
  {
   "cell_type": "code",
   "execution_count": 91,
   "metadata": {
    "collapsed": false
   },
   "outputs": [
    {
     "name": "stdout",
     "output_type": "stream",
     "text": [
      "[[ -3.23636346e-04   1.42201752e-04   3.17030713e-04   5.36390435e-02\n",
      "    9.30284526e-05   2.54030965e-01   9.65655009e-01   3.19990241e-05\n",
      "   -2.95831396e-04   3.84043646e-04  -1.00526693e-02]\n",
      " [ -7.57985623e-03  -1.66366340e-03   1.04742899e-03   5.21677266e-02\n",
      "    4.49425600e-05   9.65020304e-01  -2.56793964e-01   7.90089050e-06\n",
      "    5.24900596e-04  -1.09699394e-03  -2.89827657e-03]\n",
      " [  1.82124420e-02   2.54680710e-03   3.31838657e-03   9.93221259e-01\n",
      "   -1.51888372e-04  -6.42297821e-02  -3.91682592e-02   4.30929482e-04\n",
      "   -6.93199060e-03  -2.85216045e-03  -8.62920933e-02]\n",
      " [  1.56811999e-01   3.28220652e-03   1.66866136e-02   8.28549640e-02\n",
      "   -6.91822288e-03   1.13029682e-03   5.39110108e-03  -9.49080503e-04\n",
      "    2.68027305e-03   1.30498102e-03   9.83955205e-01]\n",
      " [  9.81360642e-01  -1.45890108e-02   5.92643662e-02  -3.17546064e-02\n",
      "    5.07483182e-04   8.43759364e-03  -1.77578042e-03   6.03725221e-04\n",
      "   -9.05011239e-02  -9.35630845e-03  -1.54417839e-01]]\n"
     ]
    }
   ],
   "source": [
    "# task 6\n",
    "from sklearn.decomposition import PCA\n",
    "pca = PCA(n_components=5)\n",
    "pca.fit(X_train[:, 1:])\n",
    "print pca.components_"
   ]
  },
  {
   "cell_type": "code",
   "execution_count": 92,
   "metadata": {
    "collapsed": false
   },
   "outputs": [
    {
     "name": "stdout",
     "output_type": "stream",
     "text": [
      "1345.47557416\n"
     ]
    }
   ],
   "source": [
    "# task 7\n",
    "pca = PCA(n_components=4)\n",
    "pca.fit(X_train[:, 1:])\n",
    "print numpy.sum(re) - len(X_train) * numpy.sum(pca.explained_variance_)"
   ]
  },
  {
   "cell_type": "code",
   "execution_count": 100,
   "metadata": {
    "collapsed": false
   },
   "outputs": [
    {
     "name": "stderr",
     "output_type": "stream",
     "text": [
      "/Library/Frameworks/Python.framework/Versions/2.7/lib/python2.7/site-packages/sklearn/utils/deprecation.py:70: DeprecationWarning: Function residues_ is deprecated; ``residues_`` is deprecated and will be removed in 0.19\n",
      "  warnings.warn(msg, category=DeprecationWarning)\n",
      "/Library/Frameworks/Python.framework/Versions/2.7/lib/python2.7/site-packages/sklearn/utils/deprecation.py:70: DeprecationWarning: Function residues_ is deprecated; ``residues_`` is deprecated and will be removed in 0.19\n",
      "  warnings.warn(msg, category=DeprecationWarning)\n",
      "/Library/Frameworks/Python.framework/Versions/2.7/lib/python2.7/site-packages/sklearn/utils/deprecation.py:70: DeprecationWarning: Function residues_ is deprecated; ``residues_`` is deprecated and will be removed in 0.19\n",
      "  warnings.warn(msg, category=DeprecationWarning)\n",
      "/Library/Frameworks/Python.framework/Versions/2.7/lib/python2.7/site-packages/sklearn/utils/deprecation.py:70: DeprecationWarning: Function residues_ is deprecated; ``residues_`` is deprecated and will be removed in 0.19\n",
      "  warnings.warn(msg, category=DeprecationWarning)\n",
      "/Library/Frameworks/Python.framework/Versions/2.7/lib/python2.7/site-packages/sklearn/utils/deprecation.py:70: DeprecationWarning: Function residues_ is deprecated; ``residues_`` is deprecated and will be removed in 0.19\n",
      "  warnings.warn(msg, category=DeprecationWarning)\n",
      "/Library/Frameworks/Python.framework/Versions/2.7/lib/python2.7/site-packages/sklearn/utils/deprecation.py:70: DeprecationWarning: Function residues_ is deprecated; ``residues_`` is deprecated and will be removed in 0.19\n",
      "  warnings.warn(msg, category=DeprecationWarning)\n",
      "/Library/Frameworks/Python.framework/Versions/2.7/lib/python2.7/site-packages/sklearn/utils/deprecation.py:70: DeprecationWarning: Function residues_ is deprecated; ``residues_`` is deprecated and will be removed in 0.19\n",
      "  warnings.warn(msg, category=DeprecationWarning)\n",
      "/Library/Frameworks/Python.framework/Versions/2.7/lib/python2.7/site-packages/sklearn/utils/deprecation.py:70: DeprecationWarning: Function residues_ is deprecated; ``residues_`` is deprecated and will be removed in 0.19\n",
      "  warnings.warn(msg, category=DeprecationWarning)\n",
      "/Library/Frameworks/Python.framework/Versions/2.7/lib/python2.7/site-packages/sklearn/utils/deprecation.py:70: DeprecationWarning: Function residues_ is deprecated; ``residues_`` is deprecated and will be removed in 0.19\n",
      "  warnings.warn(msg, category=DeprecationWarning)\n",
      "/Library/Frameworks/Python.framework/Versions/2.7/lib/python2.7/site-packages/sklearn/utils/deprecation.py:70: DeprecationWarning: Function residues_ is deprecated; ``residues_`` is deprecated and will be removed in 0.19\n",
      "  warnings.warn(msg, category=DeprecationWarning)\n",
      "/Library/Frameworks/Python.framework/Versions/2.7/lib/python2.7/site-packages/sklearn/utils/deprecation.py:70: DeprecationWarning: Function residues_ is deprecated; ``residues_`` is deprecated and will be removed in 0.19\n",
      "  warnings.warn(msg, category=DeprecationWarning)\n"
     ]
    },
    {
     "data": {
      "text/plain": [
       "<matplotlib.legend.Legend at 0x10d3fcad0>"
      ]
     },
     "execution_count": 100,
     "metadata": {},
     "output_type": "execute_result"
    },
    {
     "data": {
      "image/png": "[encoded data removed]",
      "text/plain": [
       "<matplotlib.figure.Figure at 0x1148f53d0>"
      ]
     },
     "metadata": {},
     "output_type": "display_data"
    }
   ],
   "source": [
    "# task 8\n",
    "pca = PCA(n_components=11)\n",
    "X_train_pca = pca.fit_transform(X_train[:, 1:])\n",
    "X_validate_pca = pca.transform(numpy.array(X_validate)[:, 1:])\n",
    "X_test_pca = pca.transform(numpy.array(X_test)[:, 1:])\n",
    "y = [l[-1] for l in lines]\n",
    "y_train = y[:int(len(y)/3)]\n",
    "y_validate = y[int(len(y)/3):int(2*len(y)/3)]\n",
    "y_test = y[int(2*len(X)/3):]\n",
    "\n",
    "from sklearn.linear_model import LinearRegression as LR\n",
    "lr = LR()\n",
    "train_mse = []\n",
    "test_mse = []\n",
    "\n",
    "for i in range(1, 12):\n",
    "    lr.fit(X_train_pca[:, :i], y_train)\n",
    "    train_mse.append(lr.residues_ / len(y_train))\n",
    "    s = lr.score(X_test_pca[:, :i], y_test)\n",
    "    v = ((y_test - numpy.mean(y_test))**2).sum()\n",
    "    test_mse.append((float)((1-s) * v) / len(y_test))\n",
    "    \n",
    "plt.plot(range(1, 12), train_mse, 'r', label='MSE on train')\n",
    "plt.plot(range(1, 12), test_mse, 'g', label='MSE on test')\n",
    "plt.legend()"
   ]
  },
  {
   "cell_type": "code",
   "execution_count": null,
   "metadata": {
    "collapsed": true
   },
   "outputs": [],
   "source": []
  }
 ],
 "metadata": {
  "kernelspec": {
   "display_name": "Python 2",
   "language": "python",
   "name": "python2"
  },
  "language_info": {
   "codemirror_mode": {
    "name": "ipython",
    "version": 2
   },
   "file_extension": ".py",
   "mimetype": "text/x-python",
   "name": "python",
   "nbconvert_exporter": "python",
   "pygments_lexer": "ipython2",
   "version": "2.7.12"
  }
 },
 "nbformat": 4,
 "nbformat_minor": 2
}
